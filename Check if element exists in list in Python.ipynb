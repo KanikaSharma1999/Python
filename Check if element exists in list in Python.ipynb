{
 "cells": [
  {
   "cell_type": "code",
   "execution_count": 1,
   "id": "bafe425f",
   "metadata": {},
   "outputs": [],
   "source": [
    "#Check if element exists in list in Python"
   ]
  },
  {
   "cell_type": "code",
   "execution_count": 19,
   "id": "8d274a49",
   "metadata": {},
   "outputs": [
    {
     "name": "stdout",
     "output_type": "stream",
     "text": [
      "Enter the elements in a list : 123\n",
      "Enter the element you wnat to search: 1\n",
      "Do list have the element true or false:  True\n"
     ]
    }
   ],
   "source": [
    "def exits(l,element):\n",
    "    for i in l:\n",
    "        if i==element:\n",
    "            return True\n",
    "    return False    \n",
    "l=list(input(\"Enter the elements in a list : \"))\n",
    "element=input(\"Enter the element you wnat to search: \")\n",
    "print(\"Do list have the element true or false: \" ,exits(l,element))        \n",
    "            "
   ]
  },
  {
   "cell_type": "code",
   "execution_count": null,
   "id": "e44c4282",
   "metadata": {},
   "outputs": [],
   "source": []
  }
 ],
 "metadata": {
  "kernelspec": {
   "display_name": "Python 3 (ipykernel)",
   "language": "python",
   "name": "python3"
  },
  "language_info": {
   "codemirror_mode": {
    "name": "ipython",
    "version": 3
   },
   "file_extension": ".py",
   "mimetype": "text/x-python",
   "name": "python",
   "nbconvert_exporter": "python",
   "pygments_lexer": "ipython3",
   "version": "3.11.3"
  }
 },
 "nbformat": 4,
 "nbformat_minor": 5
}
