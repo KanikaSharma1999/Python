{
 "cells": [
  {
   "cell_type": "code",
   "execution_count": null,
   "id": "1b375510",
   "metadata": {},
   "outputs": [],
   "source": [
    "#Python Program to Add Two Numbers"
   ]
  },
  {
   "cell_type": "code",
   "execution_count": null,
   "id": "294b9cd8",
   "metadata": {},
   "outputs": [],
   "source": [
    "def sum(num1, num2):\n",
    "    sum=num1+num2\n",
    "    return sum \n",
    "num1=int(input())\n",
    "num2= int(input())\n",
    "\n",
    "print(\"the sum of {0} and {1} is {2}\" .format(num1,num2, sum(num1, num2)))"
   ]
  },
  {
   "cell_type": "code",
   "execution_count": null,
   "id": "29edb0a3",
   "metadata": {},
   "outputs": [],
   "source": [
    " import operator"
   ]
  },
  {
   "cell_type": "code",
   "execution_count": null,
   "id": "87cc2530",
   "metadata": {},
   "outputs": [],
   "source": [
    "operator.add(num1,num2)"
   ]
  },
  {
   "cell_type": "code",
   "execution_count": null,
   "id": "aa8a111d",
   "metadata": {},
   "outputs": [],
   "source": [
    "fun=lambda sum:num1+num2\n",
    "num1=int(input())\n",
    "num2= int(input())\n",
    "print(\"the sum of {0} and {1} is {2}\" .format(num1,\n",
    "                                            num2, fun(0)))"
   ]
  },
  {
   "cell_type": "code",
   "execution_count": 2,
   "id": "76d858b7",
   "metadata": {},
   "outputs": [
    {
     "name": "stdout",
     "output_type": "stream",
     "text": [
      "1\n",
      "2\n",
      "the sum of 1 and 2 is 3\n"
     ]
    }
   ],
   "source": [
    "#Recursion\n",
    "def rec(num1, num2):\n",
    "    if num2==0:\n",
    "        return num1\n",
    "    else: \n",
    "        return(rec(num1+1,num2-1))\n",
    "num1=int(input())\n",
    "num2= int(input())\n",
    "\n",
    "print(\"the sum of {0} and {1} is {2}\" .format(num1,num2, rec(num1, num2)))"
   ]
  },
  {
   "cell_type": "markdown",
   "id": "9bddb281",
   "metadata": {},
   "source": [
    "### "
   ]
  }
 ],
 "metadata": {
  "kernelspec": {
   "display_name": "Python 3 (ipykernel)",
   "language": "python",
   "name": "python3"
  },
  "language_info": {
   "codemirror_mode": {
    "name": "ipython",
    "version": 3
   },
   "file_extension": ".py",
   "mimetype": "text/x-python",
   "name": "python",
   "nbconvert_exporter": "python",
   "pygments_lexer": "ipython3",
   "version": "3.11.3"
  }
 },
 "nbformat": 4,
 "nbformat_minor": 5
}
