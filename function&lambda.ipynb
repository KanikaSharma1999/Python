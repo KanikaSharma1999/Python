{
 "cells": [
  {
   "cell_type": "code",
   "execution_count": 1,
   "id": "cf4f77f0",
   "metadata": {},
   "outputs": [],
   "source": [
    "#Functions"
   ]
  },
  {
   "cell_type": "code",
   "execution_count": 8,
   "id": "73f548b8",
   "metadata": {},
   "outputs": [],
   "source": [
    "#creating a funtion\n",
    "def my_function():\n",
    "    print(\"hello i am a function\")"
   ]
  },
  {
   "cell_type": "code",
   "execution_count": 9,
   "id": "ae32c39d",
   "metadata": {},
   "outputs": [
    {
     "name": "stdout",
     "output_type": "stream",
     "text": [
      "hello i am a function\n"
     ]
    }
   ],
   "source": [
    "#calling a funtion\n",
    "my_function()"
   ]
  },
  {
   "cell_type": "code",
   "execution_count": 10,
   "id": "e80749a0",
   "metadata": {},
   "outputs": [],
   "source": [
    "#parameter or arguments: args - passing the information\n",
    "def my_function(fname):\n",
    "    print(fname + \"hello i am a function\")"
   ]
  },
  {
   "cell_type": "code",
   "execution_count": 14,
   "id": "f2aeadbb",
   "metadata": {},
   "outputs": [
    {
     "name": "stdout",
     "output_type": "stream",
     "text": [
      "lwhello i am a function\n",
      "ok hello i am a function\n",
      " pythonhello i am a function\n"
     ]
    }
   ],
   "source": [
    "my_function(\"lw\")\n",
    "my_function(\"ok \")\n",
    "my_function(\" python\")"
   ]
  },
  {
   "cell_type": "code",
   "execution_count": 15,
   "id": "e6b22060",
   "metadata": {},
   "outputs": [],
   "source": [
    "def my_function(fname , lname):\n",
    "    print(fname +\" \"+ lname)"
   ]
  },
  {
   "cell_type": "code",
   "execution_count": 18,
   "id": "6442be9c",
   "metadata": {},
   "outputs": [
    {
     "name": "stdout",
     "output_type": "stream",
     "text": [
      "kajal  singh \n"
     ]
    }
   ],
   "source": [
    "my_function(\"kajal\" ,\" singh \")"
   ]
  },
  {
   "cell_type": "code",
   "execution_count": 19,
   "id": "e1275228",
   "metadata": {
    "scrolled": true
   },
   "outputs": [
    {
     "ename": "TypeError",
     "evalue": "my_function() missing 1 required positional argument: 'lname'",
     "output_type": "error",
     "traceback": [
      "\u001b[1;31m---------------------------------------------------------------------------\u001b[0m",
      "\u001b[1;31mTypeError\u001b[0m                                 Traceback (most recent call last)",
      "Cell \u001b[1;32mIn[19], line 1\u001b[0m\n\u001b[1;32m----> 1\u001b[0m my_function(\u001b[38;5;124m\"\u001b[39m\u001b[38;5;124mkajal\u001b[39m\u001b[38;5;124m\"\u001b[39m)\n",
      "\u001b[1;31mTypeError\u001b[0m: my_function() missing 1 required positional argument: 'lname'"
     ]
    }
   ],
   "source": [
    "my_function(\"kajal\")"
   ]
  },
  {
   "cell_type": "code",
   "execution_count": 33,
   "id": "b442fb35",
   "metadata": {},
   "outputs": [],
   "source": [
    "#Arbitary argument\n",
    "def my_function(*members):\n",
    "    print(\"the first member is\"+ \" \" + members[0])\n",
    "    print(\"the last member is\"+ \" \" + members[-1])\n",
    "    print(\"the second member is\"+ \" \" + members[1])"
   ]
  },
  {
   "cell_type": "code",
   "execution_count": 32,
   "id": "3632e8a0",
   "metadata": {},
   "outputs": [
    {
     "name": "stdout",
     "output_type": "stream",
     "text": [
      "the first member is vimal\n",
      "the last member is pop\n",
      "the second member is jack\n"
     ]
    }
   ],
   "source": [
    "my_function(\"vimal\" , \"jack\" ,\"pop\")"
   ]
  },
  {
   "cell_type": "code",
   "execution_count": 39,
   "id": "f244cbde",
   "metadata": {},
   "outputs": [],
   "source": [
    "#keyword argument : kwargs\n",
    "def my_function(mem3 , mem2 , mem1):\n",
    "    print(\"the first member is\"+ \" \" + mem2)\n",
    "    print(\"the last member is\"+ \" \" + mem3)\n",
    "    print(\"the second member is\"+ \" \" + mem1)"
   ]
  },
  {
   "cell_type": "code",
   "execution_count": 38,
   "id": "a1193f5c",
   "metadata": {},
   "outputs": [
    {
     "name": "stdout",
     "output_type": "stream",
     "text": [
      "the first member is jack\n",
      "the last member is pop\n",
      "the second member is vimal\n"
     ]
    }
   ],
   "source": [
    "my_function(mem1=\"vimal\" , mem2=\"jack\" ,mem3 =\"pop\")"
   ]
  },
  {
   "cell_type": "code",
   "execution_count": 54,
   "id": "8d7839a3",
   "metadata": {},
   "outputs": [],
   "source": [
    "#Arbitary keyword argument\n",
    "def my_function(*m ,**members):\n",
    "    print(\"the third member is\"+ \" \" + members[\"mem3\"])\n",
    "    print(\"the last member is\"+ \" \" + members[\"mem1\"])\n",
    "    print(\"the second member is\"+ \" \" + members[\"mem4\"])\n",
    "    print(\"the first member is\"+ \" \" + m[0])\n",
    "    print(\"the last member is\"+ \" \" + m[-1])\n",
    "    print(\"the second member is\"+ \" \" + m[1])"
   ]
  },
  {
   "cell_type": "code",
   "execution_count": 56,
   "id": "90409705",
   "metadata": {},
   "outputs": [
    {
     "ename": "SyntaxError",
     "evalue": "positional argument follows keyword argument (1916337953.py, line 1)",
     "output_type": "error",
     "traceback": [
      "\u001b[1;36m  Cell \u001b[1;32mIn[56], line 1\u001b[1;36m\u001b[0m\n\u001b[1;33m    my_function(mem1=\"pop\", mem3=\"jack\" , mem4=\"tom\" , \"m1\" ,\"m4\")\u001b[0m\n\u001b[1;37m                                                                 ^\u001b[0m\n\u001b[1;31mSyntaxError\u001b[0m\u001b[1;31m:\u001b[0m positional argument follows keyword argument\n"
     ]
    }
   ],
   "source": [
    "my_function(mem1=\"pop\", mem3=\"jack\" , mem4=\"tom\" , \"m1\" ,\"m4\")\n"
   ]
  },
  {
   "cell_type": "code",
   "execution_count": 55,
   "id": "69ad6965",
   "metadata": {},
   "outputs": [
    {
     "ename": "KeyError",
     "evalue": "'mem3'",
     "output_type": "error",
     "traceback": [
      "\u001b[1;31m---------------------------------------------------------------------------\u001b[0m",
      "\u001b[1;31mKeyError\u001b[0m                                  Traceback (most recent call last)",
      "Cell \u001b[1;32mIn[55], line 1\u001b[0m\n\u001b[1;32m----> 1\u001b[0m my_function(\u001b[38;5;124m\"\u001b[39m\u001b[38;5;124mvimal\u001b[39m\u001b[38;5;124m\"\u001b[39m , \u001b[38;5;124m\"\u001b[39m\u001b[38;5;124mjack\u001b[39m\u001b[38;5;124m\"\u001b[39m ,\u001b[38;5;124m\"\u001b[39m\u001b[38;5;124mpop\u001b[39m\u001b[38;5;124m\"\u001b[39m)\n",
      "Cell \u001b[1;32mIn[54], line 3\u001b[0m, in \u001b[0;36mmy_function\u001b[1;34m(*m, **members)\u001b[0m\n\u001b[0;32m      2\u001b[0m \u001b[38;5;28;01mdef\u001b[39;00m \u001b[38;5;21mmy_function\u001b[39m(\u001b[38;5;241m*\u001b[39mm ,\u001b[38;5;241m*\u001b[39m\u001b[38;5;241m*\u001b[39mmembers):\n\u001b[1;32m----> 3\u001b[0m     \u001b[38;5;28mprint\u001b[39m(\u001b[38;5;124m\"\u001b[39m\u001b[38;5;124mthe third member is\u001b[39m\u001b[38;5;124m\"\u001b[39m\u001b[38;5;241m+\u001b[39m \u001b[38;5;124m\"\u001b[39m\u001b[38;5;124m \u001b[39m\u001b[38;5;124m\"\u001b[39m \u001b[38;5;241m+\u001b[39m members[\u001b[38;5;124m\"\u001b[39m\u001b[38;5;124mmem3\u001b[39m\u001b[38;5;124m\"\u001b[39m])\n\u001b[0;32m      4\u001b[0m     \u001b[38;5;28mprint\u001b[39m(\u001b[38;5;124m\"\u001b[39m\u001b[38;5;124mthe last member is\u001b[39m\u001b[38;5;124m\"\u001b[39m\u001b[38;5;241m+\u001b[39m \u001b[38;5;124m\"\u001b[39m\u001b[38;5;124m \u001b[39m\u001b[38;5;124m\"\u001b[39m \u001b[38;5;241m+\u001b[39m members[\u001b[38;5;124m\"\u001b[39m\u001b[38;5;124mmem1\u001b[39m\u001b[38;5;124m\"\u001b[39m])\n\u001b[0;32m      5\u001b[0m     \u001b[38;5;28mprint\u001b[39m(\u001b[38;5;124m\"\u001b[39m\u001b[38;5;124mthe second member is\u001b[39m\u001b[38;5;124m\"\u001b[39m\u001b[38;5;241m+\u001b[39m \u001b[38;5;124m\"\u001b[39m\u001b[38;5;124m \u001b[39m\u001b[38;5;124m\"\u001b[39m \u001b[38;5;241m+\u001b[39m members[\u001b[38;5;124m\"\u001b[39m\u001b[38;5;124mmem4\u001b[39m\u001b[38;5;124m\"\u001b[39m])\n",
      "\u001b[1;31mKeyError\u001b[0m: 'mem3'"
     ]
    }
   ],
   "source": [
    "my_function(\"vimal\" , \"jack\" ,\"pop\")"
   ]
  },
  {
   "cell_type": "code",
   "execution_count": 45,
   "id": "d116e339",
   "metadata": {},
   "outputs": [],
   "source": [
    "def my_new(country=\"India\"):\n",
    "    print(\"I am from \" + country)"
   ]
  },
  {
   "cell_type": "code",
   "execution_count": 47,
   "id": "01383a57",
   "metadata": {},
   "outputs": [
    {
     "name": "stdout",
     "output_type": "stream",
     "text": [
      "I am from India\n"
     ]
    }
   ],
   "source": [
    "my_new()"
   ]
  },
  {
   "cell_type": "code",
   "execution_count": 48,
   "id": "21ef810a",
   "metadata": {},
   "outputs": [
    {
     "name": "stdout",
     "output_type": "stream",
     "text": [
      "I am from england\n"
     ]
    }
   ],
   "source": [
    "my_new(\"england\")"
   ]
  },
  {
   "cell_type": "code",
   "execution_count": 49,
   "id": "360b6e6e",
   "metadata": {},
   "outputs": [],
   "source": [
    "#passing a list as an argument\n",
    "def my_food(food):\n",
    "    for x in food:\n",
    "        print(x)\n",
    "        "
   ]
  },
  {
   "cell_type": "code",
   "execution_count": 50,
   "id": "58fc1dca",
   "metadata": {},
   "outputs": [],
   "source": [
    "fruits=[\"apple\" , \"watermelon\" , \"papya\"]"
   ]
  },
  {
   "cell_type": "code",
   "execution_count": 51,
   "id": "99d3a905",
   "metadata": {},
   "outputs": [
    {
     "name": "stdout",
     "output_type": "stream",
     "text": [
      "apple\n",
      "watermelon\n",
      "papya\n"
     ]
    }
   ],
   "source": [
    "my_food(fruits)"
   ]
  },
  {
   "cell_type": "code",
   "execution_count": 57,
   "id": "4c11313f",
   "metadata": {},
   "outputs": [],
   "source": [
    "#Return Values"
   ]
  },
  {
   "cell_type": "code",
   "execution_count": 59,
   "id": "436d5923",
   "metadata": {},
   "outputs": [],
   "source": [
    "def my_return(x):\n",
    "    return 9 * x"
   ]
  },
  {
   "cell_type": "code",
   "execution_count": 63,
   "id": "e2b1e09a",
   "metadata": {},
   "outputs": [
    {
     "name": "stdout",
     "output_type": "stream",
     "text": [
      "9\n",
      "45\n"
     ]
    }
   ],
   "source": [
    "print(my_return(1))\n",
    "print(my_return(5))"
   ]
  },
  {
   "cell_type": "code",
   "execution_count": 65,
   "id": "29f5db61",
   "metadata": {},
   "outputs": [],
   "source": [
    "def my_pass():\n",
    "    pass"
   ]
  },
  {
   "cell_type": "code",
   "execution_count": 67,
   "id": "c4f89955",
   "metadata": {},
   "outputs": [],
   "source": [
    "#function recursion\n",
    "def tri_recursion(k):\n",
    "    if(k>0):\n",
    "        result=k+tri_recursion(k - 1)\n",
    "        print(result)\n",
    "    else:\n",
    "        result=0\n",
    "    return result    "
   ]
  },
  {
   "cell_type": "code",
   "execution_count": 68,
   "id": "6a61f5e4",
   "metadata": {},
   "outputs": [
    {
     "name": "stdout",
     "output_type": "stream",
     "text": [
      "1\n",
      "3\n",
      "6\n",
      "10\n",
      "15\n",
      "21\n"
     ]
    },
    {
     "data": {
      "text/plain": [
       "21"
      ]
     },
     "execution_count": 68,
     "metadata": {},
     "output_type": "execute_result"
    }
   ],
   "source": [
    "tri_recursion(6)"
   ]
  },
  {
   "cell_type": "code",
   "execution_count": 69,
   "id": "7280f314",
   "metadata": {},
   "outputs": [],
   "source": [
    "#Python Lambda: small anonymous function\n",
    "lambda arguments : expression"
   ]
  },
  {
   "cell_type": "code",
   "execution_count": 70,
   "id": "6b3efd44",
   "metadata": {},
   "outputs": [],
   "source": [
    "x = lambda a: a+10"
   ]
  },
  {
   "cell_type": "code",
   "execution_count": 71,
   "id": "0814a70b",
   "metadata": {},
   "outputs": [
    {
     "name": "stdout",
     "output_type": "stream",
     "text": [
      "15\n"
     ]
    }
   ],
   "source": [
    "print(x(5))"
   ]
  },
  {
   "cell_type": "code",
   "execution_count": 72,
   "id": "e4f7361a",
   "metadata": {},
   "outputs": [],
   "source": [
    "x = lambda a ,b : a+b"
   ]
  },
  {
   "cell_type": "code",
   "execution_count": 73,
   "id": "f600ccfe",
   "metadata": {},
   "outputs": [
    {
     "name": "stdout",
     "output_type": "stream",
     "text": [
      "11\n"
     ]
    }
   ],
   "source": [
    "print(x(5,6))"
   ]
  },
  {
   "cell_type": "code",
   "execution_count": 75,
   "id": "730ab2c2",
   "metadata": {},
   "outputs": [],
   "source": [
    "def myfunc(n):\n",
    "    return lambda a: a*n"
   ]
  },
  {
   "cell_type": "code",
   "execution_count": 78,
   "id": "82815d6a",
   "metadata": {},
   "outputs": [],
   "source": [
    "double=myfunc(2)"
   ]
  },
  {
   "cell_type": "code",
   "execution_count": 83,
   "id": "1a501686",
   "metadata": {},
   "outputs": [
    {
     "name": "stdout",
     "output_type": "stream",
     "text": [
      "9\n"
     ]
    }
   ],
   "source": [
    "print(double(3))"
   ]
  },
  {
   "cell_type": "code",
   "execution_count": 82,
   "id": "d2c989c4",
   "metadata": {},
   "outputs": [],
   "source": [
    "double=myfunc(3)"
   ]
  },
  {
   "cell_type": "code",
   "execution_count": null,
   "id": "c97548cb",
   "metadata": {},
   "outputs": [],
   "source": []
  }
 ],
 "metadata": {
  "kernelspec": {
   "display_name": "Python 3 (ipykernel)",
   "language": "python",
   "name": "python3"
  },
  "language_info": {
   "codemirror_mode": {
    "name": "ipython",
    "version": 3
   },
   "file_extension": ".py",
   "mimetype": "text/x-python",
   "name": "python",
   "nbconvert_exporter": "python",
   "pygments_lexer": "ipython3",
   "version": "3.11.3"
  }
 },
 "nbformat": 4,
 "nbformat_minor": 5
}
