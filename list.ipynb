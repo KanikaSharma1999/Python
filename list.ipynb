{
 "cells": [
  {
   "cell_type": "code",
   "execution_count": 1,
   "id": "fe00a0c4",
   "metadata": {},
   "outputs": [],
   "source": [
    "#variables\n"
   ]
  },
  {
   "cell_type": "code",
   "execution_count": 2,
   "id": "495a7e9d",
   "metadata": {},
   "outputs": [],
   "source": [
    "name=\"kanika\""
   ]
  },
  {
   "cell_type": "code",
   "execution_count": 3,
   "id": "1ebf477d",
   "metadata": {},
   "outputs": [
    {
     "data": {
      "text/plain": [
       "'kanika'"
      ]
     },
     "execution_count": 3,
     "metadata": {},
     "output_type": "execute_result"
    }
   ],
   "source": [
    "name\n"
   ]
  },
  {
   "cell_type": "code",
   "execution_count": 4,
   "id": "631e19f0",
   "metadata": {},
   "outputs": [],
   "source": [
    "#list"
   ]
  },
  {
   "cell_type": "code",
   "execution_count": 5,
   "id": "942dff91",
   "metadata": {},
   "outputs": [],
   "source": [
    "mystudents=[\"a\",\"b\",\"c\"]"
   ]
  },
  {
   "cell_type": "code",
   "execution_count": 6,
   "id": "e9949589",
   "metadata": {},
   "outputs": [
    {
     "data": {
      "text/plain": [
       "['a', 'b', 'c']"
      ]
     },
     "execution_count": 6,
     "metadata": {},
     "output_type": "execute_result"
    }
   ],
   "source": [
    "mystudents\n"
   ]
  },
  {
   "cell_type": "code",
   "execution_count": 9,
   "id": "2e553ef8",
   "metadata": {},
   "outputs": [],
   "source": [
    "#range- \":\" slicing operator"
   ]
  },
  {
   "cell_type": "code",
   "execution_count": 10,
   "id": "8622f88b",
   "metadata": {},
   "outputs": [
    {
     "data": {
      "text/plain": [
       "['b', 'c']"
      ]
     },
     "execution_count": 10,
     "metadata": {},
     "output_type": "execute_result"
    }
   ],
   "source": [
    "mystudents[1:3]"
   ]
  },
  {
   "cell_type": "code",
   "execution_count": 15,
   "id": "1ed9f865",
   "metadata": {},
   "outputs": [],
   "source": [
    "#creating a table  / database\n",
    "#2d 2 bracket"
   ]
  },
  {
   "cell_type": "code",
   "execution_count": 16,
   "id": "df62bd86",
   "metadata": {},
   "outputs": [],
   "source": [
    "db=[[\"utsav\",111,\"ajmer\"],\n",
    "      [\"utsa\",1112,\"jmer\"],\n",
    "      [\"tsav\",1311,\"amer\"],\n",
    "      [\"uts\",1411,\"jer\"]]"
   ]
  },
  {
   "cell_type": "code",
   "execution_count": 17,
   "id": "e0d25bc1",
   "metadata": {},
   "outputs": [
    {
     "data": {
      "text/plain": [
       "[['utsav', 111, 'ajmer'],\n",
       " ['utsa', 1112, 'jmer'],\n",
       " ['tsav', 1311, 'amer'],\n",
       " ['uts', 1411, 'jer']]"
      ]
     },
     "execution_count": 17,
     "metadata": {},
     "output_type": "execute_result"
    }
   ],
   "source": [
    "db"
   ]
  },
  {
   "cell_type": "code",
   "execution_count": 18,
   "id": "0e024fe2",
   "metadata": {},
   "outputs": [
    {
     "data": {
      "text/plain": [
       "['uts', 1411, 'jer']"
      ]
     },
     "execution_count": 18,
     "metadata": {},
     "output_type": "execute_result"
    }
   ],
   "source": [
    "db[3]"
   ]
  },
  {
   "cell_type": "code",
   "execution_count": 19,
   "id": "d68980bb",
   "metadata": {},
   "outputs": [
    {
     "data": {
      "text/plain": [
       "[['utsa', 1112, 'jmer'], ['tsav', 1311, 'amer']]"
      ]
     },
     "execution_count": 19,
     "metadata": {},
     "output_type": "execute_result"
    }
   ],
   "source": [
    "db[1:3]"
   ]
  },
  {
   "cell_type": "code",
   "execution_count": 20,
   "id": "389a199a",
   "metadata": {},
   "outputs": [
    {
     "data": {
      "text/plain": [
       "[]"
      ]
     },
     "execution_count": 20,
     "metadata": {},
     "output_type": "execute_result"
    }
   ],
   "source": [
    "db[3:2]"
   ]
  },
  {
   "cell_type": "code",
   "execution_count": 21,
   "id": "fe2282cc",
   "metadata": {},
   "outputs": [
    {
     "data": {
      "text/plain": [
       "'jer'"
      ]
     },
     "execution_count": 21,
     "metadata": {},
     "output_type": "execute_result"
    }
   ],
   "source": [
    "db[3][2]"
   ]
  },
  {
   "cell_type": "code",
   "execution_count": null,
   "id": "ae286d03",
   "metadata": {},
   "outputs": [],
   "source": []
  }
 ],
 "metadata": {
  "kernelspec": {
   "display_name": "Python 3 (ipykernel)",
   "language": "python",
   "name": "python3"
  },
  "language_info": {
   "codemirror_mode": {
    "name": "ipython",
    "version": 3
   },
   "file_extension": ".py",
   "mimetype": "text/x-python",
   "name": "python",
   "nbconvert_exporter": "python",
   "pygments_lexer": "ipython3",
   "version": "3.11.3"
  }
 },
 "nbformat": 4,
 "nbformat_minor": 5
}
