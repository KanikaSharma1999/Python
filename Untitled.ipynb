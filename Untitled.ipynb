{
 "cells": [
  {
   "cell_type": "markdown",
   "id": "16554bf5",
   "metadata": {},
   "source": [
    "# List in python"
   ]
  },
  {
   "cell_type": "code",
   "execution_count": 3,
   "id": "2def00ed",
   "metadata": {},
   "outputs": [],
   "source": [
    "\n",
    "A=[1,2,3,4,5]"
   ]
  },
  {
   "cell_type": "code",
   "execution_count": 4,
   "id": "3b8559c9",
   "metadata": {},
   "outputs": [
    {
     "name": "stdout",
     "output_type": "stream",
     "text": [
      "[1, 2, 3, 4, 5]\n"
     ]
    }
   ],
   "source": [
    "print(A)"
   ]
  },
  {
   "cell_type": "markdown",
   "id": "4aa73210",
   "metadata": {},
   "source": [
    "# Numpy"
   ]
  },
  {
   "cell_type": "code",
   "execution_count": 5,
   "id": "713ccabb",
   "metadata": {},
   "outputs": [],
   "source": [
    "import numpy as np"
   ]
  },
  {
   "cell_type": "code",
   "execution_count": 6,
   "id": "cce690b1",
   "metadata": {},
   "outputs": [],
   "source": [
    "A=[1,2,3,4,5]"
   ]
  },
  {
   "cell_type": "code",
   "execution_count": 7,
   "id": "c3561d2d",
   "metadata": {},
   "outputs": [
    {
     "data": {
      "text/plain": [
       "list"
      ]
     },
     "execution_count": 7,
     "metadata": {},
     "output_type": "execute_result"
    }
   ],
   "source": [
    "type(A)"
   ]
  },
  {
   "cell_type": "markdown",
   "id": "ccec31d1",
   "metadata": {},
   "source": [
    "# Convert List to array"
   ]
  },
  {
   "cell_type": "code",
   "execution_count": 8,
   "id": "bb8607c0",
   "metadata": {},
   "outputs": [],
   "source": [
    "B=np.array(A)"
   ]
  },
  {
   "cell_type": "code",
   "execution_count": 82,
   "id": "74053f29",
   "metadata": {},
   "outputs": [
    {
     "data": {
      "text/plain": [
       "array([1, 2, 3, 4, 5])"
      ]
     },
     "execution_count": 82,
     "metadata": {},
     "output_type": "execute_result"
    }
   ],
   "source": [
    "B"
   ]
  },
  {
   "cell_type": "code",
   "execution_count": 83,
   "id": "67612986",
   "metadata": {},
   "outputs": [
    {
     "data": {
      "text/plain": [
       "numpy.ndarray"
      ]
     },
     "execution_count": 83,
     "metadata": {},
     "output_type": "execute_result"
    }
   ],
   "source": [
    "type(B)"
   ]
  },
  {
   "cell_type": "markdown",
   "id": "bfc03945",
   "metadata": {},
   "source": [
    "# Size of array"
   ]
  },
  {
   "cell_type": "code",
   "execution_count": 11,
   "id": "5b24ea93",
   "metadata": {},
   "outputs": [
    {
     "name": "stdout",
     "output_type": "stream",
     "text": [
      "5\n"
     ]
    }
   ],
   "source": [
    "print(B.size)"
   ]
  },
  {
   "cell_type": "markdown",
   "id": "568141f8",
   "metadata": {},
   "source": [
    "# Length of array"
   ]
  },
  {
   "cell_type": "code",
   "execution_count": 75,
   "id": "90372cfb",
   "metadata": {},
   "outputs": [
    {
     "name": "stdout",
     "output_type": "stream",
     "text": [
      "5\n"
     ]
    }
   ],
   "source": [
    "print(len(B))"
   ]
  },
  {
   "cell_type": "markdown",
   "id": "c8b266ae",
   "metadata": {},
   "source": [
    "# Typecasting Change data type by array "
   ]
  },
  {
   "cell_type": "code",
   "execution_count": 33,
   "id": "3782eb86",
   "metadata": {},
   "outputs": [
    {
     "name": "stdout",
     "output_type": "stream",
     "text": [
      "int32\n"
     ]
    }
   ],
   "source": [
    "print(B.dtype)"
   ]
  },
  {
   "cell_type": "code",
   "execution_count": 34,
   "id": "b445f87c",
   "metadata": {},
   "outputs": [
    {
     "name": "stdout",
     "output_type": "stream",
     "text": [
      "[1. 2. 3. 4. 5.]\n"
     ]
    }
   ],
   "source": [
    "print(B.astype(float))"
   ]
  },
  {
   "cell_type": "code",
   "execution_count": 38,
   "id": "c398feb1",
   "metadata": {},
   "outputs": [],
   "source": [
    "b=B.astype(float)"
   ]
  },
  {
   "cell_type": "code",
   "execution_count": 39,
   "id": "8410cccb",
   "metadata": {},
   "outputs": [
    {
     "name": "stdout",
     "output_type": "stream",
     "text": [
      "float64\n"
     ]
    }
   ],
   "source": [
    "print(b.dtype)"
   ]
  },
  {
   "cell_type": "markdown",
   "id": "82def220",
   "metadata": {},
   "source": [
    "All the elements of the array can be modified together but in list it is not possible"
   ]
  },
  {
   "cell_type": "code",
   "execution_count": 17,
   "id": "014756c8",
   "metadata": {},
   "outputs": [],
   "source": [
    "C=B+5"
   ]
  },
  {
   "cell_type": "code",
   "execution_count": 18,
   "id": "e5b0ec5a",
   "metadata": {},
   "outputs": [
    {
     "name": "stdout",
     "output_type": "stream",
     "text": [
      "[ 6  7  8  9 10]\n"
     ]
    }
   ],
   "source": [
    "print(C)"
   ]
  },
  {
   "cell_type": "markdown",
   "id": "89182e40",
   "metadata": {},
   "source": [
    "# Dimension of an array"
   ]
  },
  {
   "cell_type": "code",
   "execution_count": 19,
   "id": "0014d297",
   "metadata": {},
   "outputs": [
    {
     "name": "stdout",
     "output_type": "stream",
     "text": [
      "1\n"
     ]
    }
   ],
   "source": [
    "print(C.ndim)"
   ]
  },
  {
   "cell_type": "markdown",
   "id": "aaa2fe00",
   "metadata": {},
   "source": [
    "# 2 Dimension Array "
   ]
  },
  {
   "cell_type": "code",
   "execution_count": 22,
   "id": "a9122e00",
   "metadata": {},
   "outputs": [],
   "source": [
    "n=np.array([[1,2,3,4],[5,6,7,8]])"
   ]
  },
  {
   "cell_type": "code",
   "execution_count": 29,
   "id": "f4c498ac",
   "metadata": {},
   "outputs": [
    {
     "name": "stdout",
     "output_type": "stream",
     "text": [
      "2\n"
     ]
    }
   ],
   "source": [
    "print(n.ndim)"
   ]
  },
  {
   "cell_type": "code",
   "execution_count": 23,
   "id": "4000c109",
   "metadata": {},
   "outputs": [
    {
     "name": "stdout",
     "output_type": "stream",
     "text": [
      "[[1 2 3 4]\n",
      " [5 6 7 8]]\n"
     ]
    }
   ],
   "source": [
    "print(n)"
   ]
  },
  {
   "cell_type": "code",
   "execution_count": 24,
   "id": "7f693abf",
   "metadata": {},
   "outputs": [
    {
     "name": "stdout",
     "output_type": "stream",
     "text": [
      "8\n"
     ]
    }
   ],
   "source": [
    "print(n.size)"
   ]
  },
  {
   "cell_type": "code",
   "execution_count": 25,
   "id": "2a73a7d6",
   "metadata": {},
   "outputs": [
    {
     "name": "stdout",
     "output_type": "stream",
     "text": [
      "2\n"
     ]
    }
   ],
   "source": [
    "print(len(n))"
   ]
  },
  {
   "cell_type": "code",
   "execution_count": 26,
   "id": "68e8f411",
   "metadata": {},
   "outputs": [
    {
     "name": "stdout",
     "output_type": "stream",
     "text": [
      "<class 'numpy.ndarray'>\n"
     ]
    }
   ],
   "source": [
    "print(type(n))"
   ]
  },
  {
   "cell_type": "code",
   "execution_count": 27,
   "id": "9058a71b",
   "metadata": {},
   "outputs": [],
   "source": [
    "N=n+5"
   ]
  },
  {
   "cell_type": "code",
   "execution_count": 28,
   "id": "0bfbcd3f",
   "metadata": {},
   "outputs": [
    {
     "name": "stdout",
     "output_type": "stream",
     "text": [
      "[[ 6  7  8  9]\n",
      " [10 11 12 13]]\n"
     ]
    }
   ],
   "source": [
    "print(N)"
   ]
  },
  {
   "cell_type": "code",
   "execution_count": 30,
   "id": "86418a31",
   "metadata": {},
   "outputs": [
    {
     "name": "stdout",
     "output_type": "stream",
     "text": [
      "int32\n"
     ]
    }
   ],
   "source": [
    "print(n.dtype)"
   ]
  },
  {
   "cell_type": "code",
   "execution_count": 31,
   "id": "99a2f1cd",
   "metadata": {},
   "outputs": [
    {
     "name": "stdout",
     "output_type": "stream",
     "text": [
      "[[1. 2. 3. 4.]\n",
      " [5. 6. 7. 8.]]\n"
     ]
    }
   ],
   "source": [
    "print(n.astype(float))"
   ]
  },
  {
   "cell_type": "code",
   "execution_count": 40,
   "id": "a895532a",
   "metadata": {},
   "outputs": [],
   "source": [
    "m=n.astype(float)"
   ]
  },
  {
   "cell_type": "code",
   "execution_count": 41,
   "id": "9b3e62ba",
   "metadata": {},
   "outputs": [
    {
     "name": "stdout",
     "output_type": "stream",
     "text": [
      "[[1. 2. 3. 4.]\n",
      " [5. 6. 7. 8.]]\n"
     ]
    }
   ],
   "source": [
    "print(m)"
   ]
  },
  {
   "cell_type": "code",
   "execution_count": 42,
   "id": "f4329eb9",
   "metadata": {},
   "outputs": [
    {
     "name": "stdout",
     "output_type": "stream",
     "text": [
      "float64\n"
     ]
    }
   ],
   "source": [
    "print(m.dtype)"
   ]
  },
  {
   "cell_type": "markdown",
   "id": "3a37477d",
   "metadata": {},
   "source": [
    "# Statistics with numpy array"
   ]
  },
  {
   "cell_type": "code",
   "execution_count": 48,
   "id": "4965a993",
   "metadata": {},
   "outputs": [
    {
     "name": "stdout",
     "output_type": "stream",
     "text": [
      "Addition:  [11 25 35 45 61]\n",
      "Subtraction:  [ 9 21 29 37 51]\n",
      "Multiplication:  [ 10  46  96 164 280]\n",
      "Division:  [10.         11.5        10.66666667 10.25       11.2       ]\n",
      "Remainder:  [0 1 2 1 1]\n"
     ]
    }
   ],
   "source": [
    "#Basic Stastistics with Numpy Arrays\n",
    "\n",
    "import numpy as np \n",
    "a = np.array([10, 23, 32, 41, 56] ) \n",
    "b = np.array([1, 2, 3, 4, 5])\n",
    "\n",
    "#Array 1\n",
    "\n",
    "# Array 2\n",
    "\n",
    "print(\"Addition: \", a + b)\n",
    "\n",
    "# Printing addition result\n",
    "\n",
    "print(\"Subtraction: \", a - b)\n",
    "\n",
    "# Printing subtraction result\n",
    "\n",
    "print(\"Multiplication: \", a * b)\n",
    "\n",
    "# Printing multiplication result\n",
    "\n",
    "print(\"Division: \", a / b)\n",
    "\n",
    "# Printing division result\n",
    "\n",
    "print(\"Remainder: \", a % b)\n",
    "\n",
    "#Printing remainder result"
   ]
  },
  {
   "cell_type": "code",
   "execution_count": 51,
   "id": "2b4ae08c",
   "metadata": {},
   "outputs": [
    {
     "name": "stdout",
     "output_type": "stream",
     "text": [
      "Sum is  [11 25 35 45 61]\n",
      "Difference is  [ 9 21 29 37 51]\n",
      "Product is  [ 10  46  96 164 280]\n",
      "Quotient is  [10.         11.5        10.66666667 10.25       11.2       ]\n",
      "Remainder is  [0 1 2 1 1]\n"
     ]
    }
   ],
   "source": [
    "import numpy as np\n",
    "\n",
    "a = np.array( [10, 23, 32, 41, 56])\n",
    "\n",
    "#23 Array 1\n",
    "\n",
    "b = np.array([1, 2, 3, 4, 5])\n",
    "\n",
    "# Array 2\n",
    "\n",
    "s=np.add(a,b)\n",
    "\n",
    "d= np.subtract (a,b)\n",
    "\n",
    "m= np.multiply(a,b)\n",
    "\n",
    "q=np.divide(a,b)\n",
    "\n",
    "r=np.remainder (a,b)\n",
    "\n",
    "print(\"Sum is \",s)\n",
    "\n",
    "print(\"Difference is \",d)\n",
    "\n",
    "print(\"Product is \",m)\n",
    "\n",
    "print(\"Quotient is \",q)\n",
    "\n",
    "print(\"Remainder is \",r)"
   ]
  },
  {
   "cell_type": "markdown",
   "id": "a115c588",
   "metadata": {},
   "source": [
    "# Statistical functions in Numpy"
   ]
  },
  {
   "cell_type": "code",
   "execution_count": 56,
   "id": "9afd2903",
   "metadata": {},
   "outputs": [
    {
     "name": "stdout",
     "output_type": "stream",
     "text": [
      "5.5\n",
      "5.5\n",
      "55\n",
      "10\n",
      "1\n"
     ]
    }
   ],
   "source": [
    "import numpy as np \n",
    "array1 = np.array([1, 2, 3, 4, 5, 6, 7, 8, 9, 10])\n",
    "\n",
    "#Write a code to find out the mean of arrayl \n",
    "mean = array1.mean () \n",
    "print(mean)\n",
    "\n",
    "#Write a code to find out the median of arrayl \n",
    "array1=np.sort(array1) \n",
    "mid=array1.size//2 \n",
    "if array1.size % 2 == 0: \n",
    "    median = (array1 [mid-1] + array1 [mid])/2\n",
    "\n",
    "else:\n",
    "    median =array1 [mid] \n",
    "print (median)\n",
    "\n",
    "# Write a code to find out the sum of arrayl \n",
    "s=array1.sum() \n",
    "print(s)\n",
    "\n",
    "#Write a code to find out the maximum value in arrayl \n",
    "mx=array1.max() \n",
    "print(mx)\n",
    "\n",
    "#Write a code to find out the minimum value in arrayl\n",
    "mn =array1.min()\n",
    "\n",
    "print(mn)"
   ]
  },
  {
   "cell_type": "markdown",
   "id": "8cf9f387",
   "metadata": {},
   "source": [
    "# Example using Numpy\n",
    " • Your school is participating in the state basketball \n",
    "championship. For this, a team of Basketball \n",
    "players from your school has been selected and \n",
    "their details are recorded. The heights of these \n",
    "students (in cms) is recorded in an array. Along \n",
    "students (in cms) is recorded in an array. Along \n",
    "with the height data, the weight (in kgs) of each \n",
    "with the height data, the weight (in kgs) of each \n",
    "player too has been recorded in another array. \n",
    "Write a program to calculate the BMI of all the \n",
    "players using the formula :\n",
    " BMI = weight /(height * height)\n",
    " Note : Weight should be in Kg and height in Metres\n",
    "\n"
   ]
  },
  {
   "cell_type": "code",
   "execution_count": 62,
   "id": "9268a0b8",
   "metadata": {},
   "outputs": [
    {
     "name": "stdout",
     "output_type": "stream",
     "text": [
      "Weight of players:  [59 68 49 54 60 62 50 52 55 52]\n",
      "Height of players:  [1.45 1.5  1.6  1.84 1.73 1.4  1.9  1.43 1.54 1.58]\n",
      "BMI of players :  [28.06183115 30.22222222 19.140625   15.94990548 20.04744562 31.63265306\n",
      " 13.85041551 25.42911634 23.19109462 20.82999519]\n"
     ]
    }
   ],
   "source": [
    "import numpy as np\n",
    "\n",
    "#Creating a list containing heights of 10 students in cm \n",
    "iheight = [145, 150, 160, 184, 173, 140, 190, 143, 154, 158]\n",
    "\n",
    "# Converting to array \n",
    "height = np.array(iheight)\n",
    "\n",
    "# Weight of players in kgs \n",
    "weight = np.array([59, 68, 49, 54, 60, 62, 50, 52, 55, 52])\n",
    "\n",
    "#convert the height into metres \n",
    "height = height/100\n",
    "\n",
    "#Calculate BMI \n",
    "BMI = weight/ (height*height)\n",
    "\n",
    "print(\"Weight of players: \",weight)\n",
    "\n",
    "print(\"Height of players: \",height)\n",
    "\n",
    "print(\"BMI of players : \", BMI)"
   ]
  },
  {
   "cell_type": "markdown",
   "id": "45e92dc0",
   "metadata": {},
   "source": [
    "# Logical operations with Numpy\n",
    " • The healthy range for BMI is 18.5 to 24.9.\n",
    " • BMI of 25 or more is considered as overweight \n",
    "and BMI of 18.4 or less is underweight.\n",
    " • Using numpy, we can also find which of the 10 \n",
    "• Using numpy, we can also find which of the 10 \n",
    "students have a healthy BMI."
   ]
  },
  {
   "cell_type": "code",
   "execution_count": 63,
   "id": "5cab773e",
   "metadata": {},
   "outputs": [
    {
     "name": "stdout",
     "output_type": "stream",
     "text": [
      "[False False  True  True  True False  True False  True  True]\n",
      "[19.140625   15.94990548 20.04744562 13.85041551 23.19109462 20.82999519]\n",
      "[28.06183115 30.22222222 19.140625   20.04744562 31.63265306 25.42911634\n",
      " 23.19109462 20.82999519]\n",
      "[19.140625   20.04744562 23.19109462 20.82999519]\n"
     ]
    }
   ],
   "source": [
    "#To see all the values which are 25 as True, and rest as False.\n",
    "\n",
    "print (BMI < 25)\n",
    "\n",
    "#To see all the values which are >= 18.5 as True, and rest as False. print (BMI >= 18.5)\n",
    "\n",
    "#by writing the condition inside any numpy_array[] #we can get the values which satisfies the condition\n",
    "\n",
    "print (BMI [BMI < 25] )\n",
    "\n",
    "print (BMI [BMI >= 18.5])\n",
    "\n",
    "\n",
    "\n",
    "#To store values which are common in both the arrays use logical AND\n",
    "\n",
    "finalBMI = BMI [np.logical_and ( BMI < 25 , BMI >= 18.5)]\n",
    "\n",
    "print (finalBMI)"
   ]
  },
  {
   "cell_type": "markdown",
   "id": "192b9471",
   "metadata": {},
   "source": [
    "# sorting"
   ]
  },
  {
   "cell_type": "code",
   "execution_count": 69,
   "id": "865d7bc9",
   "metadata": {},
   "outputs": [
    {
     "name": "stdout",
     "output_type": "stream",
     "text": [
      "[[54 97 55 91 72]\n",
      " [51 65 64 90 78]]\n",
      "[ 7 13  7  7  7]\n",
      "[ 7  7  7  7 13]\n",
      "[[54 55 72 91 97]\n",
      " [51 64 65 78 90]]\n",
      "[[51 65 55 90 72]\n",
      " [54 97 64 91 78]]\n"
     ]
    }
   ],
   "source": [
    "#Create a 2-D numpy array with 2 rows and 5 columns, #with random integer values.\n",
    "\n",
    "import numpy as np\n",
    "\n",
    "array1 = np.random.randint(50,100, (2,5))\n",
    "\n",
    "#Create a 1-D numpy array with 5 elements having random integer values. \n",
    "array2 = np.random.randint(5,15, (5,))\n",
    "\n",
    "#Print both the arrays here: \n",
    "print (array1) \n",
    "print(array2)\n",
    "\n",
    "print(np.sort(array2)) \n",
    "#2 Printing the sorted numpy array\n",
    "\n",
    "#We can also sort array row wise and column wise in 2D array!\n",
    "\n",
    "#Axis = 1 performs the sorting function row-wise\n",
    "\n",
    "print(np.sort(array1, axis= 1))\n",
    "\n",
    "#Axis 0 performs the sortling function columns-wise\n",
    "\n",
    "print(np.sort(array1, axis = 0))"
   ]
  },
  {
   "cell_type": "markdown",
   "id": "e8edb636",
   "metadata": {},
   "source": [
    "# Practical Question\n",
    " • list1 = [10, 45, 67, 34, 89]\n",
    " • Convert list1 into a numpy array named array1 and print array1.\n",
    " • Add 3 to every element of array1 and store the result in array2. \n",
    "Print array2.\n",
    " • Print odd values of array1.\n",
    " • Print first, last and middle element of array2.\n",
    " • Print first, last and middle element of array2.\n",
    " • Usenp.arange() function to create an array array3 which has \n",
    "numbers from 10 to 50 at intervals of 10.\n",
    " • Sortarray1 using Numpy function.\n",
    " • Create a 2-Dimensional array array4 of size 3X4 with any integer \n",
    "values and print the following:– Number of Dimensions– Shape of array– Length of arra"
   ]
  },
  {
   "cell_type": "code",
   "execution_count": 74,
   "id": "65583c13",
   "metadata": {},
   "outputs": [
    {
     "name": "stdout",
     "output_type": "stream",
     "text": [
      "Array1 :  [10 45 67 34 89]\n",
      "Array2 :  [13 48 70 37 92]\n",
      "[45 67 89]\n",
      "First element of array2 is  13\n",
      "Last element of array2 is  92\n",
      "Middle element of array2 is  70\n",
      "Array3:  [10 20 30 40 50]\n",
      "Sorted array1 is:  [10 34 45 67 89]\n"
     ]
    }
   ],
   "source": [
    "list1=[10,45,67,34,89]\n",
    "\n",
    "array1=np.array(list1)\n",
    "\n",
    "print(\"Array1 : \",array1)\n",
    "\n",
    "array2=array1+3\n",
    "\n",
    "print(\"Array2 : \",array2)\n",
    "\n",
    "print(array1 [array1%2==1])\n",
    "\n",
    "print(\"First element of array2 is \",array2[0])\n",
    "\n",
    "print(\"Last element of array2 is \",array2[-1])\n",
    "\n",
    "mid=array2.size//2\n",
    "\n",
    "if array2.size%2==1:\n",
    "    print(\"Middle element of array2 is \",array2 [mid])\n",
    "\n",
    "else:\n",
    "    print(\"Middle element of array2 is \",array2 [mid-1]) \n",
    "array3=np.arange(10,52,10)\n",
    "\n",
    "print(\"Array3: \",array3)\n",
    "\n",
    "print(\"Sorted array1 is: \",np.sort(array1))"
   ]
  },
  {
   "cell_type": "markdown",
   "id": "c0a8fb61",
   "metadata": {},
   "source": [
    "# Practical questions"
   ]
  },
  {
   "cell_type": "code",
   "execution_count": 76,
   "id": "ef416ece",
   "metadata": {},
   "outputs": [
    {
     "ename": "SyntaxError",
     "evalue": "invalid syntax (2479075873.py, line 1)",
     "output_type": "error",
     "traceback": [
      "\u001b[1;36m  Cell \u001b[1;32mIn[76], line 1\u001b[1;36m\u001b[0m\n\u001b[1;33m    Write a python program to store the runs scored by each batsman of a\u001b[0m\n\u001b[1;37m          ^\u001b[0m\n\u001b[1;31mSyntaxError\u001b[0m\u001b[1;31m:\u001b[0m invalid syntax\n"
     ]
    }
   ],
   "source": [
    " Write a python program to store the runs scored by each batsman of a\n",
    " team and the balls faced by them in a numpy array (assume all of them bat).\n",
    " The scores and balls faced are listed below.\n",
    " Runs scored : 50,23,12,62,45,90,15,28,16,77\n",
    " Balls faced : 40,36,19,41,46,50,12,29,23,60\n",
    " Calculate the strike rate of each batsman. Identify those strike rates that are\n",
    " above 100%. A batsman with strike rate above 100% is eligible to be\n",
    " nominated for man of the match. Indicate if the strike rate is eligible for man of\n",
    " the match nomination or not as True or False. Sort the array in ascending\n",
    " order of strike rate"
   ]
  },
  {
   "cell_type": "code",
   "execution_count": 77,
   "id": "9d6e9d0a",
   "metadata": {},
   "outputs": [
    {
     "name": "stdout",
     "output_type": "stream",
     "text": [
      "Runs: 12, Balls: 19, Strike Rate: 63.16, MOTM Eligible: False\n",
      "Runs: 23, Balls: 36, Strike Rate: 63.89, MOTM Eligible: False\n",
      "Runs: 16, Balls: 23, Strike Rate: 69.57, MOTM Eligible: False\n",
      "Runs: 28, Balls: 29, Strike Rate: 96.55, MOTM Eligible: False\n",
      "Runs: 45, Balls: 46, Strike Rate: 97.83, MOTM Eligible: False\n",
      "Runs: 15, Balls: 12, Strike Rate: 125.00, MOTM Eligible: True\n",
      "Runs: 50, Balls: 40, Strike Rate: 125.00, MOTM Eligible: True\n",
      "Runs: 77, Balls: 60, Strike Rate: 128.33, MOTM Eligible: True\n",
      "Runs: 62, Balls: 41, Strike Rate: 151.22, MOTM Eligible: True\n",
      "Runs: 90, Balls: 50, Strike Rate: 180.00, MOTM Eligible: True\n"
     ]
    }
   ],
   "source": [
    "import numpy as np\n",
    "\n",
    "# Step 1: Storing runs and balls faced in numpy arrays\n",
    "runs_scored = np.array([50, 23, 12, 62, 45, 90, 15, 28, 16, 77])\n",
    "balls_faced = np.array([40, 36, 19, 41, 46, 50, 12, 29, 23, 60])\n",
    "\n",
    "# Step 2: Calculate strike rate\n",
    "strike_rates = (runs_scored / balls_faced) * 100\n",
    "\n",
    "# Step 3: Identify strike rates above 100% for man of the match eligibility\n",
    "man_of_the_match_eligibility = strike_rates > 100\n",
    "\n",
    "# Step 4: Combine the data into a single array and sort by strike rate\n",
    "combined_data = np.array(list(zip(runs_scored, balls_faced, strike_rates, man_of_the_match_eligibility)),\n",
    "                         dtype=[('Runs', int), ('Balls', int), ('Strike Rate', float), ('MOTM Eligible', bool)])\n",
    "\n",
    "sorted_data = np.sort(combined_data, order='Strike Rate')\n",
    "\n",
    "# Displaying the sorted results\n",
    "for record in sorted_data:\n",
    "    print(f\"Runs: {record['Runs']}, Balls: {record['Balls']}, Strike Rate: {record['Strike Rate']:.2f}, MOTM Eligible: {record['MOTM Eligible']}\")\n"
   ]
  },
  {
   "cell_type": "code",
   "execution_count": 78,
   "id": "89202a6b",
   "metadata": {},
   "outputs": [
    {
     "ename": "SyntaxError",
     "evalue": "invalid syntax (3295765615.py, line 1)",
     "output_type": "error",
     "traceback": [
      "\u001b[1;36m  Cell \u001b[1;32mIn[78], line 1\u001b[1;36m\u001b[0m\n\u001b[1;33m    The written test marks obtained by 5 students and their internal\u001b[0m\n\u001b[1;37m        ^\u001b[0m\n\u001b[1;31mSyntaxError\u001b[0m\u001b[1;31m:\u001b[0m invalid syntax\n"
     ]
    }
   ],
   "source": [
    "The written test marks obtained by 5 students and their internal\n",
    " assessment marks are listed below. The internal assessment is for a\n",
    " maximum of 20 marks and the written test is for a maximum of 80 marks.\n",
    " Internal assessment marks : 18,15,10,12,20\n",
    " Written test marks : 73,61,56,44,77\n",
    " Write a Python program to store them in two numpy arrays. Print the\n",
    " percentage score in the internal assessment and percentage score in written\n",
    " test for each student. Calculate the total marks scored by the students out of\n",
    " 100. List those total marks that are above 90. Students get merit certificate if\n",
    " their total score is above 75%. Print whether or not a score is eligible for a\n",
    " merit certificate. Create a numpy array consisting of the element 100 in all 5\n",
    " places. Use this array to find the marks by which each student has missed a\n",
    " centum"
   ]
  },
  {
   "cell_type": "code",
   "execution_count": 79,
   "id": "15749282",
   "metadata": {},
   "outputs": [
    {
     "name": "stdout",
     "output_type": "stream",
     "text": [
      "Percentage Scores:\n",
      "Student 1: Internal Assessment = 90.00%, Written Test = 91.25%\n",
      "Student 2: Internal Assessment = 75.00%, Written Test = 76.25%\n",
      "Student 3: Internal Assessment = 50.00%, Written Test = 70.00%\n",
      "Student 4: Internal Assessment = 60.00%, Written Test = 55.00%\n",
      "Student 5: Internal Assessment = 100.00%, Written Test = 96.25%\n",
      "\n",
      "Total Marks:\n",
      "Student 1: Total Marks = 91, Merit Eligible: True\n",
      "Student 2: Total Marks = 76, Merit Eligible: True\n",
      "Student 3: Total Marks = 66, Merit Eligible: False\n",
      "Student 4: Total Marks = 56, Merit Eligible: False\n",
      "Student 5: Total Marks = 97, Merit Eligible: True\n",
      "\n",
      "Marks Above 90:\n",
      "[91 97]\n",
      "\n",
      "Marks Missed from Perfect Score:\n",
      "Student 1: Missed Marks = 9\n",
      "Student 2: Missed Marks = 24\n",
      "Student 3: Missed Marks = 34\n",
      "Student 4: Missed Marks = 44\n",
      "Student 5: Missed Marks = 3\n"
     ]
    }
   ],
   "source": [
    "import numpy as np\n",
    "\n",
    "# Step 1: Store the internal assessment and written test marks in numpy arrays\n",
    "internal_assessment_marks = np.array([18, 15, 10, 12, 20])\n",
    "written_test_marks = np.array([73, 61, 56, 44, 77])\n",
    "\n",
    "# Step 2: Calculate the percentage scores\n",
    "internal_assessment_percentage = (internal_assessment_marks / 20) * 100\n",
    "written_test_percentage = (written_test_marks / 80) * 100\n",
    "\n",
    "# Step 3: Calculate the total marks out of 100\n",
    "total_marks = internal_assessment_marks + written_test_marks\n",
    "\n",
    "# Step 4: Identify total marks above 90\n",
    "above_90_marks = total_marks[total_marks > 90]\n",
    "\n",
    "# Step 5: Determine merit certificate eligibility (total marks > 75%)\n",
    "merit_eligibility = total_marks > 75\n",
    "\n",
    "# Step 6: Calculate marks missed from a perfect score (100)\n",
    "perfect_score = np.full(5, 100)  # Create a numpy array filled with 100\n",
    "missed_marks = perfect_score - total_marks\n",
    "\n",
    "# Displaying the results\n",
    "print(\"Percentage Scores:\")\n",
    "for i in range(len(internal_assessment_marks)):\n",
    "    print(f\"Student {i+1}: Internal Assessment = {internal_assessment_percentage[i]:.2f}%, Written Test = {written_test_percentage[i]:.2f}%\")\n",
    "\n",
    "print(\"\\nTotal Marks:\")\n",
    "for i in range(len(total_marks)):\n",
    "    print(f\"Student {i+1}: Total Marks = {total_marks[i]}, Merit Eligible: {merit_eligibility[i]}\")\n",
    "\n",
    "print(\"\\nMarks Above 90:\")\n",
    "print(above_90_marks)\n",
    "\n",
    "print(\"\\nMarks Missed from Perfect Score:\")\n",
    "for i in range(len(missed_marks)):\n",
    "    print(f\"Student {i+1}: Missed Marks = {missed_marks[i]}\")\n"
   ]
  },
  {
   "cell_type": "code",
   "execution_count": null,
   "id": "983f2c72",
   "metadata": {},
   "outputs": [],
   "source": []
  }
 ],
 "metadata": {
  "kernelspec": {
   "display_name": "Python 3 (ipykernel)",
   "language": "python",
   "name": "python3"
  },
  "language_info": {
   "codemirror_mode": {
    "name": "ipython",
    "version": 3
   },
   "file_extension": ".py",
   "mimetype": "text/x-python",
   "name": "python",
   "nbconvert_exporter": "python",
   "pygments_lexer": "ipython3",
   "version": "3.11.3"
  }
 },
 "nbformat": 4,
 "nbformat_minor": 5
}
