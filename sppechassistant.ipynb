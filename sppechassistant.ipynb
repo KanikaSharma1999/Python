{
 "cells": [
  {
   "cell_type": "code",
   "execution_count": null,
   "id": "b8bbdbaf",
   "metadata": {},
   "outputs": [
    {
     "name": "stdout",
     "output_type": "stream",
     "text": [
      "Enter your command: hello\n",
      "Enter your command: calculator\n"
     ]
    }
   ],
   "source": [
    "import pyttsx3\n",
    "import os\n",
    "\n",
    "def speak(text):\n",
    "    engine = pyttsx3.init()\n",
    "    engine.say(text)\n",
    "    engine.runAndWait()\n",
    "\n",
    "if __name__ == \"__main__\":\n",
    "    speak(\"Hello! I am your Python speech assistant.\")\n",
    "    while True:\n",
    "        command = input(\"Enter your command: \").lower()\n",
    "\n",
    "        if \"stop\" in command:\n",
    "            speak(\"Goodbye!\")\n",
    "            break\n",
    "        elif \"hello\" in command:\n",
    "            speak(\"Hello! How can I assist you?\")\n",
    "        elif \"notepad\" in command:\n",
    "            speak(\"Opening Notepad.\")\n",
    "            os.system(\"notepad\")\n",
    "        elif \"calculator\" in command:\n",
    "            speak(\"Opening Calculator.\")\n",
    "            os.system(\"calc\")\n",
    "        else:\n",
    "            speak(\"Sorry, I couldn't understand that command.\")\n"
   ]
  },
  {
   "cell_type": "code",
   "execution_count": null,
   "id": "d8e10dbc",
   "metadata": {},
   "outputs": [],
   "source": []
  }
 ],
 "metadata": {
  "kernelspec": {
   "display_name": "Python 3 (ipykernel)",
   "language": "python",
   "name": "python3"
  },
  "language_info": {
   "codemirror_mode": {
    "name": "ipython",
    "version": 3
   },
   "file_extension": ".py",
   "mimetype": "text/x-python",
   "name": "python",
   "nbconvert_exporter": "python",
   "pygments_lexer": "ipython3",
   "version": "3.11.3"
  }
 },
 "nbformat": 4,
 "nbformat_minor": 5
}
