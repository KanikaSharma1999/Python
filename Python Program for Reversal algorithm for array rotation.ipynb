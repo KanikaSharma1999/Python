{
 "cells": [
  {
   "cell_type": "code",
   "execution_count": null,
   "id": "cd9d240a",
   "metadata": {},
   "outputs": [],
   "source": [
    "#Python Program for Reversal algorithm for array rotation\n",
    "#Write a function rotate(arr[], d, n) that rotates arr[] of size n by d elements. \n"
   ]
  },
  {
   "cell_type": "code",
   "execution_count": 8,
   "id": "1f507afa",
   "metadata": {},
   "outputs": [
    {
     "name": "stdout",
     "output_type": "stream",
     "text": [
      "[1, 2, 3, 4, 5] 2 5\n"
     ]
    },
    {
     "ename": "IndexError",
     "evalue": "list assignment index out of range",
     "output_type": "error",
     "traceback": [
      "\u001b[1;31m---------------------------------------------------------------------------\u001b[0m",
      "\u001b[1;31mIndexError\u001b[0m                                Traceback (most recent call last)",
      "Cell \u001b[1;32mIn[8], line 8\u001b[0m\n\u001b[0;32m      6\u001b[0m n\u001b[38;5;241m=\u001b[39m\u001b[38;5;28mlen\u001b[39m(arr)\n\u001b[0;32m      7\u001b[0m \u001b[38;5;28mprint\u001b[39m(arr,d,n)\n\u001b[1;32m----> 8\u001b[0m \u001b[38;5;28mprint\u001b[39m(rotate(arr,d,n))\n",
      "Cell \u001b[1;32mIn[8], line 3\u001b[0m, in \u001b[0;36mrotate\u001b[1;34m(arr, d, n)\u001b[0m\n\u001b[0;32m      1\u001b[0m \u001b[38;5;28;01mdef\u001b[39;00m \u001b[38;5;21mrotate\u001b[39m(arr,d,n):\n\u001b[0;32m      2\u001b[0m     \u001b[38;5;28;01mfor\u001b[39;00m i \u001b[38;5;129;01min\u001b[39;00m arr:\n\u001b[1;32m----> 3\u001b[0m         arr[i]\u001b[38;5;241m=\u001b[39marr[n\u001b[38;5;241m-\u001b[39m\u001b[38;5;241m1\u001b[39m]\n",
      "\u001b[1;31mIndexError\u001b[0m: list assignment index out of range"
     ]
    }
   ],
   "source": [
    "def rotate(arr,d,n):\n",
    "    for i in arr:\n",
    "        if n!=d:\n",
    "            arr[i]=arr[n-1]\n",
    "            n-1\n",
    "        i+1\n",
    "        \n",
    "arr=[1,2,3,4,5]\n",
    "d=2\n",
    "n=len(arr)\n",
    "print(arr,d,n)\n",
    "print(rotate(arr,d,n))"
   ]
  },
  {
   "cell_type": "code",
   "execution_count": 6,
   "id": "75b5e7de",
   "metadata": {},
   "outputs": [],
   "source": [
    "for i in arr:\n",
    "    arr[i]=input()\n",
    "    i=i+1\n",
    "    print(i)\n",
    "#print(arr)"
   ]
  },
  {
   "cell_type": "code",
   "execution_count": 10,
   "id": "37599209",
   "metadata": {},
   "outputs": [
    {
     "name": "stdout",
     "output_type": "stream",
     "text": [
      "[3, 4, 5, 6, 7, 1, 2]\n"
     ]
    }
   ],
   "source": [
    "# Function to reverse arr[]\n",
    "def rverseArray(arr,d):\n",
    "\tc=(arr[d:])+(arr[:d])\n",
    "\treturn c\n",
    "# Driver function to test above functions\n",
    "arr = [1, 2, 3, 4, 5, 6, 7]\n",
    "d=2\n",
    "print(rverseArray(arr,d))\n"
   ]
  },
  {
   "cell_type": "code",
   "execution_count": 11,
   "id": "dc366cee",
   "metadata": {},
   "outputs": [
    {
     "name": "stdout",
     "output_type": "stream",
     "text": [
      "3\n",
      "4\n",
      "5\n",
      "6\n",
      "7\n",
      "1\n",
      "2\n"
     ]
    }
   ],
   "source": [
    "# Python program for reversal algorithm of array rotation\n",
    "\n",
    "# Function to reverse arr[] from index start to end\n",
    "def rverseArray(arr, start, end):\n",
    "\twhile (start < end):\n",
    "\t\ttemp = arr[start]\n",
    "\t\tarr[start] = arr[end]\n",
    "\t\tarr[end] = temp\n",
    "\t\tstart += 1\n",
    "\t\tend = end-1\n",
    "\n",
    "# Function to left rotate arr[] of size n by d\n",
    "def leftRotate(arr, d):\n",
    "\tn = len(arr)\n",
    "\trverseArray(arr, 0, d-1)\n",
    "\trverseArray(arr, d, n-1)\n",
    "\trverseArray(arr, 0, n-1)\n",
    "# Function to print an array\n",
    "def printArray(arr):\n",
    "\tfor i in range(0, len(arr)):\n",
    "\t\tprint (arr[i])\n",
    "# Driver function to test above functions\n",
    "arr = [1, 2, 3, 4, 5, 6, 7]\n",
    "leftRotate(arr, 2) # Rotate array by 2\n",
    "printArray(arr)\n"
   ]
  },
  {
   "cell_type": "code",
   "execution_count": 14,
   "id": "be8eff74",
   "metadata": {},
   "outputs": [],
   "source": [
    "a=['a','b','c','d','e']"
   ]
  },
  {
   "cell_type": "code",
   "execution_count": 15,
   "id": "ac8011a8",
   "metadata": {},
   "outputs": [
    {
     "data": {
      "text/plain": [
       "['c', 'd', 'e']"
      ]
     },
     "execution_count": 15,
     "metadata": {},
     "output_type": "execute_result"
    }
   ],
   "source": [
    "a[2:]"
   ]
  },
  {
   "cell_type": "code",
   "execution_count": 16,
   "id": "8690812f",
   "metadata": {},
   "outputs": [
    {
     "data": {
      "text/plain": [
       "['a', 'b']"
      ]
     },
     "execution_count": 16,
     "metadata": {},
     "output_type": "execute_result"
    }
   ],
   "source": [
    "a[:2]"
   ]
  },
  {
   "cell_type": "code",
   "execution_count": 17,
   "id": "28659d27",
   "metadata": {},
   "outputs": [],
   "source": [
    "c=(a[2:])+(a[:2])"
   ]
  },
  {
   "cell_type": "code",
   "execution_count": 18,
   "id": "498a258f",
   "metadata": {},
   "outputs": [
    {
     "data": {
      "text/plain": [
       "['c', 'd', 'e', 'a', 'b']"
      ]
     },
     "execution_count": 18,
     "metadata": {},
     "output_type": "execute_result"
    }
   ],
   "source": [
    "c"
   ]
  },
  {
   "cell_type": "code",
   "execution_count": 19,
   "id": "adc5c5ec",
   "metadata": {},
   "outputs": [],
   "source": [
    "# Function to reverse arr[] from index start to end\n",
    "def rverseArray(arr, start, end):\n",
    "\twhile (start < end):\n",
    "\t\ttemp = arr[start]\n",
    "\t\tarr[start] = arr[end]\n",
    "\t\tarr[end] = temp\n",
    "\t\tstart += 1\n",
    "\t\tend = end-1\n",
    "\n",
    "\n"
   ]
  },
  {
   "cell_type": "code",
   "execution_count": 22,
   "id": "9c23155b",
   "metadata": {},
   "outputs": [
    {
     "name": "stdout",
     "output_type": "stream",
     "text": [
      "3\n",
      "4\n",
      "5\n",
      "6\n",
      "7\n",
      "1\n",
      "2\n"
     ]
    }
   ],
   "source": [
    "# Driver function to test above functions\n",
    "arr = [1, 2, 3, 4, 5, 6, 7]\n",
    "leftRotate(arr, 2) # Rotate array by 2\n",
    "printArray(arr)\n"
   ]
  },
  {
   "cell_type": "code",
   "execution_count": 20,
   "id": "44e1b9fa",
   "metadata": {},
   "outputs": [],
   "source": [
    "# Function to print an array\n",
    "def printArray(arr):\n",
    "\tfor i in range(0, len(arr)):\n",
    "\t\tprint (arr[i])"
   ]
  },
  {
   "cell_type": "code",
   "execution_count": 21,
   "id": "d7b0f48b",
   "metadata": {},
   "outputs": [],
   "source": [
    "# Function to left rotate arr[] of size n by d\n",
    "def leftRotate(arr, d):\n",
    "\tn = len(arr)\n",
    "\trverseArray(arr, 0, d-1)\n",
    "\trverseArray(arr, d, n-1)\n",
    "\trverseArray(arr, 0, n-1)\n"
   ]
  },
  {
   "cell_type": "code",
   "execution_count": null,
   "id": "f0e8e04e",
   "metadata": {},
   "outputs": [],
   "source": []
  }
 ],
 "metadata": {
  "kernelspec": {
   "display_name": "Python 3 (ipykernel)",
   "language": "python",
   "name": "python3"
  },
  "language_info": {
   "codemirror_mode": {
    "name": "ipython",
    "version": 3
   },
   "file_extension": ".py",
   "mimetype": "text/x-python",
   "name": "python",
   "nbconvert_exporter": "python",
   "pygments_lexer": "ipython3",
   "version": "3.11.3"
  }
 },
 "nbformat": 4,
 "nbformat_minor": 5
}
