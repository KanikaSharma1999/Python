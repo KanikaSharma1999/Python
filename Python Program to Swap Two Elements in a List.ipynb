{
 "cells": [
  {
   "cell_type": "code",
   "execution_count": null,
   "id": "381d3ad9",
   "metadata": {},
   "outputs": [],
   "source": [
    "#Python Program to Swap Two Elements in a List"
   ]
  },
  {
   "cell_type": "code",
   "execution_count": 3,
   "id": "82db8872",
   "metadata": {},
   "outputs": [
    {
     "name": "stdout",
     "output_type": "stream",
     "text": [
      "1234\n",
      "1\n",
      "3\n",
      "['1', '4', '3', '2']\n"
     ]
    }
   ],
   "source": [
    "def swap(l,pos1,pos2):\n",
    "    temp=l[pos1]\n",
    "    l[pos1]=l[pos2]\n",
    "    l[pos2]=temp\n",
    "    return l\n",
    "    \n",
    "l=list(input())\n",
    "pos1=int(input())\n",
    "pos2=int(input())\n",
    "print(swap(l,pos1,pos2))"
   ]
  },
  {
   "cell_type": "code",
   "execution_count": 2,
   "id": "7de3854c",
   "metadata": {},
   "outputs": [
    {
     "data": {
      "text/plain": [
       "['1', '2', '3', '4']"
      ]
     },
     "execution_count": 2,
     "metadata": {},
     "output_type": "execute_result"
    }
   ],
   "source": [
    "l"
   ]
  },
  {
   "cell_type": "code",
   "execution_count": null,
   "id": "2393297d",
   "metadata": {},
   "outputs": [],
   "source": []
  },
  {
   "cell_type": "code",
   "execution_count": null,
   "id": "ab7895a7",
   "metadata": {},
   "outputs": [],
   "source": []
  },
  {
   "cell_type": "code",
   "execution_count": null,
   "id": "df993544",
   "metadata": {},
   "outputs": [],
   "source": [
    "l"
   ]
  },
  {
   "cell_type": "code",
   "execution_count": null,
   "id": "511c8b67",
   "metadata": {},
   "outputs": [],
   "source": []
  }
 ],
 "metadata": {
  "kernelspec": {
   "display_name": "Python 3 (ipykernel)",
   "language": "python",
   "name": "python3"
  },
  "language_info": {
   "codemirror_mode": {
    "name": "ipython",
    "version": 3
   },
   "file_extension": ".py",
   "mimetype": "text/x-python",
   "name": "python",
   "nbconvert_exporter": "python",
   "pygments_lexer": "ipython3",
   "version": "3.11.3"
  }
 },
 "nbformat": 4,
 "nbformat_minor": 5
}
