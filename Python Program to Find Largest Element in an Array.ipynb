{
 "cells": [
  {
   "cell_type": "code",
   "execution_count": 1,
   "id": "db3cd8a9",
   "metadata": {},
   "outputs": [],
   "source": [
    "#Python Program to Find Largest Element in an Array"
   ]
  },
  {
   "cell_type": "code",
   "execution_count": 2,
   "id": "f2aa73ab",
   "metadata": {},
   "outputs": [],
   "source": [
    "#To find the largest element in an array, iterate over each element and compare it \n",
    "#with the current largest element. If an element is greater, update the largest element. \n",
    "#At the end of the iteration, the largest element will be found."
   ]
  },
  {
   "cell_type": "code",
   "execution_count": 3,
   "id": "0dfe6e57",
   "metadata": {},
   "outputs": [
    {
     "name": "stdout",
     "output_type": "stream",
     "text": [
      "123\n",
      "The largest element is 3\n"
     ]
    }
   ],
   "source": [
    "def lar(arr):\n",
    "        l=len(arr)\n",
    "        max=arr[0]\n",
    "        for i in range(1,l):\n",
    "            if arr[i]>max:\n",
    "                max=arr[i]\n",
    "        return max    \n",
    "arr=list(input())\n",
    "print(\"The largest element is {0}\" .format(lar(arr)))"
   ]
  },
  {
   "cell_type": "code",
   "execution_count": null,
   "id": "bdef619b",
   "metadata": {},
   "outputs": [],
   "source": []
  }
 ],
 "metadata": {
  "kernelspec": {
   "display_name": "Python 3 (ipykernel)",
   "language": "python",
   "name": "python3"
  },
  "language_info": {
   "codemirror_mode": {
    "name": "ipython",
    "version": 3
   },
   "file_extension": ".py",
   "mimetype": "text/x-python",
   "name": "python",
   "nbconvert_exporter": "python",
   "pygments_lexer": "ipython3",
   "version": "3.11.3"
  }
 },
 "nbformat": 4,
 "nbformat_minor": 5
}
