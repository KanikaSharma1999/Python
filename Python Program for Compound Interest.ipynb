{
 "cells": [
  {
   "cell_type": "code",
   "execution_count": 1,
   "id": "11de268b",
   "metadata": {},
   "outputs": [],
   "source": [
    "#Python Program for Compound Interest"
   ]
  },
  {
   "cell_type": "code",
   "execution_count": 4,
   "id": "611189a3",
   "metadata": {},
   "outputs": [
    {
     "name": "stdout",
     "output_type": "stream",
     "text": [
      "Enter principle: 1200\n",
      "Enter rate: 5.4\n",
      "Enter time: 2\n",
      "For given amount 1200 for time 2 at rate 5.4 is 133.0992000000001\n"
     ]
    }
   ],
   "source": [
    "def ci(p,r,t):\n",
    "    a=p*(1+(r/100))**t \n",
    "    ci=a-p\n",
    "    return ci\n",
    "#a=int(input(\"Enter amount: \"))\n",
    "p=int(input(\"Enter principle: \"))\n",
    "r=float(input(\"Enter rate: \"))\n",
    "t=int(input(\"Enter time: \"))\n",
    "print(\"For given amount {0} for time {1} at rate {2} is {3}\" .format(p,t,r,ci(p,r,t)))"
   ]
  },
  {
   "cell_type": "code",
   "execution_count": null,
   "id": "325f9f9f",
   "metadata": {},
   "outputs": [],
   "source": []
  }
 ],
 "metadata": {
  "kernelspec": {
   "display_name": "Python 3 (ipykernel)",
   "language": "python",
   "name": "python3"
  },
  "language_info": {
   "codemirror_mode": {
    "name": "ipython",
    "version": 3
   },
   "file_extension": ".py",
   "mimetype": "text/x-python",
   "name": "python",
   "nbconvert_exporter": "python",
   "pygments_lexer": "ipython3",
   "version": "3.11.3"
  }
 },
 "nbformat": 4,
 "nbformat_minor": 5
}
