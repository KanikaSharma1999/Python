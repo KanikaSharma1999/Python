{
 "cells": [
  {
   "cell_type": "code",
   "execution_count": null,
   "id": "4fc37dd2",
   "metadata": {},
   "outputs": [],
   "source": [
    "#Python Program to Find the Factorial of a Number"
   ]
  },
  {
   "cell_type": "code",
   "execution_count": null,
   "id": "b2a0d2b9",
   "metadata": {},
   "outputs": [],
   "source": [
    "n=int(input())\n",
    "fact=1\n",
    "while n>0:\n",
    "    fact=fact*n\n",
    "    n=n-1\n",
    "print(fact)\n"
   ]
  },
  {
   "cell_type": "code",
   "execution_count": 1,
   "id": "51daac56",
   "metadata": {},
   "outputs": [
    {
     "name": "stdout",
     "output_type": "stream",
     "text": [
      "4\n",
      "The facotorial on numer 4 is 24\n"
     ]
    }
   ],
   "source": [
    "def fac(n, fact):\n",
    "    while n>0:\n",
    "        fact=fact*n\n",
    "        n=n-1\n",
    "        \n",
    "    return fact\n",
    "n=int(input())\n",
    "fact=1\n",
    "print(\"The facotorial on numer {0} is {1}\" .format(n,fac(n,fact)))"
   ]
  },
  {
   "cell_type": "code",
   "execution_count": 1,
   "id": "9901041e",
   "metadata": {},
   "outputs": [
    {
     "name": "stdout",
     "output_type": "stream",
     "text": [
      "Factorial of 5 is 120\n"
     ]
    }
   ],
   "source": [
    "# Python 3 program to find\n",
    "# factorial of given number\n",
    "def factorial(n):\n",
    "\t\n",
    "\t# single line to find factorial\n",
    "\treturn 1 if (n==1 or n==0) else n * factorial(n - 1)\n",
    "\n",
    "# Driver Code\n",
    "num = 5\n",
    "print(\"Factorial of\",num,\"is\",factorial(num))\n"
   ]
  },
  {
   "cell_type": "code",
   "execution_count": 2,
   "id": "e4b16a6c",
   "metadata": {},
   "outputs": [
    {
     "name": "stdout",
     "output_type": "stream",
     "text": [
      "Factorial of 5 is 120\n"
     ]
    }
   ],
   "source": [
    "# Python 3 program to find\n",
    "# factorial of given number\n",
    "import math\n",
    "\n",
    "def factorial(n):\n",
    "\treturn(math.factorial(n))\n",
    "\n",
    "\n",
    "# Driver Code\n",
    "num = 5\n",
    "print(\"Factorial of\", num, \"is\",\n",
    "\tfactorial(num))\n",
    "\n",
    "# This code is contributed by Ashutosh Pandit\n"
   ]
  },
  {
   "cell_type": "code",
   "execution_count": null,
   "id": "e4fc77c4",
   "metadata": {},
   "outputs": [],
   "source": []
  }
 ],
 "metadata": {
  "kernelspec": {
   "display_name": "Python 3 (ipykernel)",
   "language": "python",
   "name": "python3"
  },
  "language_info": {
   "codemirror_mode": {
    "name": "ipython",
    "version": 3
   },
   "file_extension": ".py",
   "mimetype": "text/x-python",
   "name": "python",
   "nbconvert_exporter": "python",
   "pygments_lexer": "ipython3",
   "version": "3.11.3"
  }
 },
 "nbformat": 4,
 "nbformat_minor": 5
}
