{
 "cells": [
  {
   "cell_type": "code",
   "execution_count": null,
   "id": "b7b7462a",
   "metadata": {},
   "outputs": [],
   "source": [
    "#Different ways to clear a list in Python"
   ]
  },
  {
   "cell_type": "code",
   "execution_count": null,
   "id": "0268a6c8",
   "metadata": {},
   "outputs": [],
   "source": [
    "l=['a','b','c']"
   ]
  },
  {
   "cell_type": "code",
   "execution_count": null,
   "id": "3909e539",
   "metadata": {},
   "outputs": [],
   "source": [
    "l"
   ]
  },
  {
   "cell_type": "code",
   "execution_count": null,
   "id": "a4af9beb",
   "metadata": {},
   "outputs": [],
   "source": [
    "for i in l:\n",
    "    print(i)"
   ]
  },
  {
   "cell_type": "code",
   "execution_count": null,
   "id": "7995f723",
   "metadata": {},
   "outputs": [],
   "source": [
    "l.clear()"
   ]
  },
  {
   "cell_type": "code",
   "execution_count": null,
   "id": "bb7b099c",
   "metadata": {},
   "outputs": [],
   "source": [
    "l"
   ]
  },
  {
   "cell_type": "code",
   "execution_count": null,
   "id": "1c39a47d",
   "metadata": {},
   "outputs": [],
   "source": [
    "def clear(l):\n",
    "    \n",
    "    for i in l:\n",
    "        print(i)\n",
    "        l.remove(i)\n",
    "        #clear(l)\n",
    "    return l  \n",
    "l=list(input())\n",
    "print(clear(l))"
   ]
  },
  {
   "cell_type": "code",
   "execution_count": null,
   "id": "d4e85cc7",
   "metadata": {},
   "outputs": [],
   "source": [
    "l"
   ]
  },
  {
   "cell_type": "code",
   "execution_count": null,
   "id": "46225f80",
   "metadata": {},
   "outputs": [],
   "source": [
    "l=[1,2,3]\n",
    "while len(l)!=0:\n",
    "    l.pop()\n",
    "print(\"The elements in the list : \" + str(l))\n",
    "    "
   ]
  },
  {
   "cell_type": "code",
   "execution_count": 1,
   "id": "7c55f4b2",
   "metadata": {},
   "outputs": [],
   "source": [
    "lst=[1,2,3,4]"
   ]
  },
  {
   "cell_type": "code",
   "execution_count": 2,
   "id": "cea77179",
   "metadata": {},
   "outputs": [],
   "source": [
    "lst = lst[:]"
   ]
  },
  {
   "cell_type": "code",
   "execution_count": 3,
   "id": "c6280dc4",
   "metadata": {},
   "outputs": [
    {
     "name": "stdout",
     "output_type": "stream",
     "text": [
      "[1, 2, 3, 4]\n"
     ]
    }
   ],
   "source": [
    "print(lst)"
   ]
  },
  {
   "cell_type": "code",
   "execution_count": 4,
   "id": "089d2264",
   "metadata": {},
   "outputs": [
    {
     "data": {
      "text/plain": [
       "[]"
      ]
     },
     "execution_count": 4,
     "metadata": {},
     "output_type": "execute_result"
    }
   ],
   "source": [
    "lst[:0]"
   ]
  },
  {
   "cell_type": "code",
   "execution_count": null,
   "id": "ec841d4f",
   "metadata": {},
   "outputs": [],
   "source": []
  }
 ],
 "metadata": {
  "kernelspec": {
   "display_name": "Python 3 (ipykernel)",
   "language": "python",
   "name": "python3"
  },
  "language_info": {
   "codemirror_mode": {
    "name": "ipython",
    "version": 3
   },
   "file_extension": ".py",
   "mimetype": "text/x-python",
   "name": "python",
   "nbconvert_exporter": "python",
   "pygments_lexer": "ipython3",
   "version": "3.11.3"
  }
 },
 "nbformat": 4,
 "nbformat_minor": 5
}
