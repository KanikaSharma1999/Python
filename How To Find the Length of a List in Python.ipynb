{
 "cells": [
  {
   "cell_type": "code",
   "execution_count": 1,
   "id": "c5d46344",
   "metadata": {},
   "outputs": [],
   "source": [
    "#How To Find the Length of a List in Python\n"
   ]
  },
  {
   "cell_type": "code",
   "execution_count": 2,
   "id": "c6b60101",
   "metadata": {},
   "outputs": [
    {
     "name": "stdout",
     "output_type": "stream",
     "text": [
      "1234\n"
     ]
    }
   ],
   "source": [
    "l=list(input())\n"
   ]
  },
  {
   "cell_type": "code",
   "execution_count": 3,
   "id": "d6037465",
   "metadata": {},
   "outputs": [
    {
     "data": {
      "text/plain": [
       "['1', '2', '3', '4']"
      ]
     },
     "execution_count": 3,
     "metadata": {},
     "output_type": "execute_result"
    }
   ],
   "source": [
    "l"
   ]
  },
  {
   "cell_type": "code",
   "execution_count": 13,
   "id": "09de2253",
   "metadata": {},
   "outputs": [
    {
     "name": "stdout",
     "output_type": "stream",
     "text": [
      "12\n",
      "2\n"
     ]
    }
   ],
   "source": [
    "def len(l,count):\n",
    "    \n",
    "    for i in l:\n",
    "        count =count+1\n",
    "    return count\n",
    "l=list(input())\n",
    "count=0\n",
    "print(len(l,count))    "
   ]
  },
  {
   "cell_type": "code",
   "execution_count": null,
   "id": "0773cab4",
   "metadata": {},
   "outputs": [],
   "source": []
  }
 ],
 "metadata": {
  "kernelspec": {
   "display_name": "Python 3 (ipykernel)",
   "language": "python",
   "name": "python3"
  },
  "language_info": {
   "codemirror_mode": {
    "name": "ipython",
    "version": 3
   },
   "file_extension": ".py",
   "mimetype": "text/x-python",
   "name": "python",
   "nbconvert_exporter": "python",
   "pygments_lexer": "ipython3",
   "version": "3.11.3"
  }
 },
 "nbformat": 4,
 "nbformat_minor": 5
}
