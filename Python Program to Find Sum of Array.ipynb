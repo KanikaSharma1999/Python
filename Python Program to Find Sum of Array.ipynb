{
 "cells": [
  {
   "cell_type": "code",
   "execution_count": null,
   "id": "3dbcf801",
   "metadata": {},
   "outputs": [],
   "source": [
    "#Python Program to Find Sum of Array"
   ]
  },
  {
   "cell_type": "code",
   "execution_count": null,
   "id": "0909facf",
   "metadata": {},
   "outputs": [],
   "source": [
    "arr=[1,2,3]\n",
    "sum=0\n",
    "for i in arr:\n",
    "    sum=sum + int(i)\n",
    "print(sum)    "
   ]
  },
  {
   "cell_type": "code",
   "execution_count": null,
   "id": "8227a024",
   "metadata": {},
   "outputs": [],
   "source": [
    "type(arr)"
   ]
  },
  {
   "cell_type": "code",
   "execution_count": 3,
   "id": "2513eb37",
   "metadata": {},
   "outputs": [
    {
     "name": "stdout",
     "output_type": "stream",
     "text": [
      "123\n",
      "sum of array is 6\n"
     ]
    }
   ],
   "source": [
    "def sumarr(arr):\n",
    "    sum=0\n",
    "    for i in arr:\n",
    "        sum=sum+int(i)\n",
    "    return sum    \n",
    "arr=list(input())\n",
    "print(\"sum of array is {0}\" .format(sumarr(arr)))"
   ]
  },
  {
   "cell_type": "code",
   "execution_count": null,
   "id": "f2e58b8c",
   "metadata": {},
   "outputs": [],
   "source": []
  }
 ],
 "metadata": {
  "kernelspec": {
   "display_name": "Python 3 (ipykernel)",
   "language": "python",
   "name": "python3"
  },
  "language_info": {
   "codemirror_mode": {
    "name": "ipython",
    "version": 3
   },
   "file_extension": ".py",
   "mimetype": "text/x-python",
   "name": "python",
   "nbconvert_exporter": "python",
   "pygments_lexer": "ipython3",
   "version": "3.11.3"
  }
 },
 "nbformat": 4,
 "nbformat_minor": 5
}
