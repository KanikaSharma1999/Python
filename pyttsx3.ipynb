{
 "cells": [
  {
   "cell_type": "code",
   "execution_count": null,
   "id": "833f11b6",
   "metadata": {},
   "outputs": [],
   "source": [
    "import pyttsx3"
   ]
  },
  {
   "cell_type": "code",
   "execution_count": null,
   "id": "f087f352",
   "metadata": {},
   "outputs": [],
   "source": [
    "# Initialize the TTS engine\n",
    "#load speaker driver for python, they connect to speaker\n",
    "myspeaker=pyttsx3.init()"
   ]
  },
  {
   "cell_type": "code",
   "execution_count": null,
   "id": "5e484e92",
   "metadata": {},
   "outputs": [],
   "source": [
    "# Set properties (optional)\n",
    "myspeaker.setProperty('rate', 150) # Speed of speech (words per minute)\n",
    "myspeaker.setProperty('volume', 0.9) # Volume level (0.0 to 1.0)"
   ]
  },
  {
   "cell_type": "code",
   "execution_count": null,
   "id": "0cb9d6c3",
   "metadata": {
    "scrolled": true
   },
   "outputs": [],
   "source": [
    "# Text to be converted to speech\n",
    "text = input()"
   ]
  },
  {
   "cell_type": "code",
   "execution_count": null,
   "id": "cce74d0f",
   "metadata": {},
   "outputs": [],
   "source": [
    "#text to speech\n",
    "myspeaker.say(text)"
   ]
  },
  {
   "cell_type": "code",
   "execution_count": null,
   "id": "4265a431",
   "metadata": {},
   "outputs": [],
   "source": [
    "#go to speaher and speak\n",
    "myspeaker.runAndWait()"
   ]
  },
  {
   "cell_type": "code",
   "execution_count": null,
   "id": "208db15f",
   "metadata": {},
   "outputs": [],
   "source": []
  }
 ],
 "metadata": {
  "kernelspec": {
   "display_name": "Python 3 (ipykernel)",
   "language": "python",
   "name": "python3"
  },
  "language_info": {
   "codemirror_mode": {
    "name": "ipython",
    "version": 3
   },
   "file_extension": ".py",
   "mimetype": "text/x-python",
   "name": "python",
   "nbconvert_exporter": "python",
   "pygments_lexer": "ipython3",
   "version": "3.11.3"
  }
 },
 "nbformat": 4,
 "nbformat_minor": 5
}
