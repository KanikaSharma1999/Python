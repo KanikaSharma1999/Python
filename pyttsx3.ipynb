{
 "cells": [
  {
   "cell_type": "code",
   "execution_count": 3,
   "id": "89c97a94",
   "metadata": {},
   "outputs": [],
   "source": [
    "import pyttsx3"
   ]
  },
  {
   "cell_type": "code",
   "execution_count": 4,
   "id": "b9c2aadc",
   "metadata": {},
   "outputs": [],
   "source": [
    "# Initialize the TTS engine\n",
    "#load speaker driver for python, they connect to speaker\n",
    "myspeaker=pyttsx3.init()"
   ]
  },
  {
   "cell_type": "code",
   "execution_count": 5,
   "id": "49e2db74",
   "metadata": {},
   "outputs": [],
   "source": [
    "# Set properties (optional)\n",
    "myspeaker.setProperty('rate', 150) # Speed of speech (words per minute)\n",
    "myspeaker.setProperty('volume', 0.9) # Volume level (0.0 to 1.0)"
   ]
  },
  {
   "cell_type": "code",
   "execution_count": 6,
   "id": "482b8ab9",
   "metadata": {},
   "outputs": [
    {
     "name": "stdout",
     "output_type": "stream",
     "text": [
      "good morning yuvraj baby , have a great day love\n"
     ]
    }
   ],
   "source": [
    "# Text to be converted to speech\n",
    "text = input()"
   ]
  },
  {
   "cell_type": "code",
   "execution_count": 10,
   "id": "405162b7",
   "metadata": {},
   "outputs": [],
   "source": [
    "#text to speech\n",
    "myspeaker.say(text)"
   ]
  },
  {
   "cell_type": "code",
   "execution_count": 11,
   "id": "72222ec5",
   "metadata": {},
   "outputs": [],
   "source": [
    "#go to speaher and speak\n",
    "myspeaker.runAndWait()"
   ]
  },
  {
   "cell_type": "code",
   "execution_count": null,
   "id": "811f0ae1",
   "metadata": {},
   "outputs": [],
   "source": []
  }
 ],
 "metadata": {
  "kernelspec": {
   "display_name": "Python 3 (ipykernel)",
   "language": "python",
   "name": "python3"
  },
  "language_info": {
   "codemirror_mode": {
    "name": "ipython",
    "version": 3
   },
   "file_extension": ".py",
   "mimetype": "text/x-python",
   "name": "python",
   "nbconvert_exporter": "python",
   "pygments_lexer": "ipython3",
   "version": "3.11.3"
  }
 },
 "nbformat": 4,
 "nbformat_minor": 5
}
