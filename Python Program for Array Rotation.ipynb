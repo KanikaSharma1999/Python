{
 "cells": [
  {
   "cell_type": "code",
   "execution_count": 1,
   "id": "7155c349",
   "metadata": {},
   "outputs": [],
   "source": [
    "#Python Program for Array Rotation"
   ]
  },
  {
   "cell_type": "code",
   "execution_count": 2,
   "id": "771ad411",
   "metadata": {},
   "outputs": [],
   "source": [
    "# Python program to left-rotate the given array\n",
    "\n",
    "# Function reverse the given array\n",
    "# by swapping first and last numbers.\n",
    "\n",
    "\n",
    "def reverse(start, end, arr):\n",
    "\n",
    "\t# No of iterations needed for reversing the list\n",
    "\tno_of_reverse = end-start+1\n",
    "\n",
    "\t# By incrementing count value swapping\n",
    "\t# of first and last elements is done.\n",
    "\tcount = 0\n",
    "\twhile((no_of_reverse)//2 != count):\n",
    "\t\tarr[start+count], arr[end-count] = arr[end-count], arr[start+count]\n",
    "\t\tcount += 1\n",
    "\treturn arr\n",
    "\n",
    "# Function takes array, length of\n",
    "# array and no of rotations as input\n",
    "\n",
    "\n",
    "def left_rotate_array(arr, size, d):\n",
    "\n",
    "\t# Reverse the Entire List\n",
    "\tstart = 0\n",
    "\tend = size-1\n",
    "\tarr = reverse(start, end, arr)\n",
    "\n",
    "\t# Divide array into twosub-array\n",
    "\t# based on no of rotations.\n",
    "\t# Divide First sub-array\n",
    "\t# Reverse the First sub-array\n",
    "\tstart = 0\n",
    "\tend = size-d-1\n",
    "\tarr = reverse(start, end, arr)\n",
    "\n",
    "\t# Divide Second sub-array\n",
    "\t# Reverse the Second sub-array\n",
    "\tstart = size-d\n",
    "\tend = size-1\n",
    "\tarr = reverse(start, end, arr)\n",
    "\treturn arr\n",
    "\n",
    "\n",
    "\n",
    "\n",
    "# This code contributed by SR.Dhanush\n"
   ]
  },
  {
   "cell_type": "code",
   "execution_count": 3,
   "id": "1abd448a",
   "metadata": {},
   "outputs": [
    {
     "name": "stdout",
     "output_type": "stream",
     "text": [
      "Original array: [1, 2, 3]\n",
      "Rotated array:  [2, 3, 1]\n"
     ]
    }
   ],
   "source": [
    "arr = [1, 2, 3]\n",
    "size = 3\n",
    "d = 1\n",
    "print('Original array:', arr)\n",
    "\n",
    "# Finding all the symmetric rotation number\n",
    "if(d <= size):\n",
    "\tprint('Rotated array: ', left_rotate_array(arr, size, d))\n",
    "else:\n",
    "\td = d % size\n",
    "\tprint('Rotated array: ', left_rotate_array(arr, size, d))"
   ]
  },
  {
   "cell_type": "code",
   "execution_count": 4,
   "id": "948f4ec1",
   "metadata": {},
   "outputs": [
    {
     "name": "stdout",
     "output_type": "stream",
     "text": [
      "Array after left rotation is:  [3, 4, 5, 6, 7, 1, 2]\n"
     ]
    }
   ],
   "source": [
    "# function to rotate array by d elements using temp array\n",
    "def rotateArray(arr, n, d):\n",
    "\ttemp = []\n",
    "\ti = 0\n",
    "\twhile (i < d):\n",
    "\t\ttemp.append(arr[i])\n",
    "\t\ti = i + 1\n",
    "\ti = 0\n",
    "\twhile (d < n):\n",
    "\t\tarr[i] = arr[d]\n",
    "\t\ti = i + 1\n",
    "\t\td = d + 1\n",
    "\tarr[:] = arr[: i] + temp\n",
    "\treturn arr\n",
    "\n",
    "\n",
    "# Driver function to test above function\n",
    "arr = [1, 2, 3, 4, 5, 6, 7]\n",
    "print(\"Array after left rotation is: \", end=' ')\n",
    "print(rotateArray(arr, len(arr), 2))\n"
   ]
  },
  {
   "cell_type": "code",
   "execution_count": null,
   "id": "2eb86f87",
   "metadata": {},
   "outputs": [],
   "source": []
  }
 ],
 "metadata": {
  "kernelspec": {
   "display_name": "Python 3 (ipykernel)",
   "language": "python",
   "name": "python3"
  },
  "language_info": {
   "codemirror_mode": {
    "name": "ipython",
    "version": 3
   },
   "file_extension": ".py",
   "mimetype": "text/x-python",
   "name": "python",
   "nbconvert_exporter": "python",
   "pygments_lexer": "ipython3",
   "version": "3.11.3"
  }
 },
 "nbformat": 4,
 "nbformat_minor": 5
}
