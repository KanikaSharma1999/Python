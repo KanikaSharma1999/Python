{
 "cells": [
  {
   "cell_type": "code",
   "execution_count": 3,
   "id": "e93a0aeb",
   "metadata": {},
   "outputs": [],
   "source": [
    "#6. List Comprehensions and the Ternary Operator\n",
    "#list comprehension is very much common when working with python code. \n",
    "#The Python ternary operator can be used within list comprehensions to filter and transform data,\n",
    "#resulting in concise and expressive code that is optimized for performance. \n",
    "#You can also use it for dictionary comprehension, in the same way as below.\n",
    "\n",
    "\n",
    "\n"
   ]
  },
  {
   "cell_type": "code",
   "execution_count": 4,
   "id": "98b72000",
   "metadata": {},
   "outputs": [
    {
     "name": "stdout",
     "output_type": "stream",
     "text": [
      "[2, 4, 12, 16]\n"
     ]
    }
   ],
   "source": [
    "# list comprehension to filter and transform a list \n",
    "numbers = [1, 2, 3, 4, 5, 6, 7, 8]\n",
    "\n",
    "# Get even numbers, and double them if they are greater than 5\n",
    "result = [2 * x if x > 5 else x for x in numbers if x % 2 == 0]\n",
    "print(result) "
   ]
  },
  {
   "cell_type": "code",
   "execution_count": null,
   "id": "3b3813e3",
   "metadata": {},
   "outputs": [],
   "source": []
  }
 ],
 "metadata": {
  "kernelspec": {
   "display_name": "Python 3 (ipykernel)",
   "language": "python",
   "name": "python3"
  },
  "language_info": {
   "codemirror_mode": {
    "name": "ipython",
    "version": 3
   },
   "file_extension": ".py",
   "mimetype": "text/x-python",
   "name": "python",
   "nbconvert_exporter": "python",
   "pygments_lexer": "ipython3",
   "version": "3.11.3"
  }
 },
 "nbformat": 4,
 "nbformat_minor": 5
}
