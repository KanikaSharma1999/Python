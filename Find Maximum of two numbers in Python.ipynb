{
 "cells": [
  {
   "cell_type": "code",
   "execution_count": null,
   "id": "055bd511",
   "metadata": {},
   "outputs": [],
   "source": [
    "#Find Maximum of two numbers in Python"
   ]
  },
  {
   "cell_type": "code",
   "execution_count": 3,
   "id": "6e509564",
   "metadata": {},
   "outputs": [
    {
     "name": "stdout",
     "output_type": "stream",
     "text": [
      "1\n",
      "1\n",
      "The max of 1 and 1 is 0\n"
     ]
    }
   ],
   "source": [
    "def max(x,y):\n",
    "    if x>y:\n",
    "        return x\n",
    "    elif x<y:\n",
    "        return y\n",
    "    else:\n",
    "        return 0\n",
    "    \n",
    "num1=int(input())\n",
    "num2= int(input())\n",
    "#max=max(num1,num2)\n",
    "print(\"The max of {0} and {1} is {2}\" .format(num1,num2,max(num1,num2)))"
   ]
  },
  {
   "cell_type": "code",
   "execution_count": 4,
   "id": "fa016825",
   "metadata": {},
   "outputs": [
    {
     "name": "stdout",
     "output_type": "stream",
     "text": [
      "1\n",
      "2\n"
     ]
    },
    {
     "data": {
      "text/plain": [
       "2"
      ]
     },
     "execution_count": 4,
     "metadata": {},
     "output_type": "execute_result"
    }
   ],
   "source": [
    "num1=int(input())\n",
    "num2= int(input())\n",
    "max(num1,num2)"
   ]
  },
  {
   "cell_type": "code",
   "execution_count": 5,
   "id": "8fd13e93",
   "metadata": {},
   "outputs": [
    {
     "name": "stdout",
     "output_type": "stream",
     "text": [
      "2\n",
      "3\n",
      "3\n"
     ]
    }
   ],
   "source": [
    "#ternary operator(true false type)\n",
    "num1=int(input())\n",
    "num2= int(input())\n",
    "print(num1 if num1 >= num2 else num2)"
   ]
  },
  {
   "cell_type": "code",
   "execution_count": 16,
   "id": "5627013a",
   "metadata": {},
   "outputs": [
    {
     "name": "stdout",
     "output_type": "stream",
     "text": [
      "2\n",
      "4\n",
      "The max of 2 and 4 is 4\n"
     ]
    }
   ],
   "source": [
    "#recursion\n",
    "num1=int(input())\n",
    "num2= int(input())\n",
    "\n",
    "max=lambda num1,num2:num1 if num1 > num2 else num2\n",
    "print(\"The max of {0} and {1} is {2}\" .format(num1,num2,max(num1,num2)))"
   ]
  },
  {
   "cell_type": "code",
   "execution_count": null,
   "id": "c2a7ace3",
   "metadata": {},
   "outputs": [],
   "source": []
  }
 ],
 "metadata": {
  "kernelspec": {
   "display_name": "Python 3 (ipykernel)",
   "language": "python",
   "name": "python3"
  },
  "language_info": {
   "codemirror_mode": {
    "name": "ipython",
    "version": 3
   },
   "file_extension": ".py",
   "mimetype": "text/x-python",
   "name": "python",
   "nbconvert_exporter": "python",
   "pygments_lexer": "ipython3",
   "version": "3.11.3"
  }
 },
 "nbformat": 4,
 "nbformat_minor": 5
}
