{
 "cells": [
  {
   "cell_type": "code",
   "execution_count": 1,
   "id": "a357b87b",
   "metadata": {},
   "outputs": [],
   "source": [
    "#Python Program for Simple Interest\n"
   ]
  },
  {
   "cell_type": "code",
   "execution_count": 7,
   "id": "26ee3c33",
   "metadata": {},
   "outputs": [
    {
     "name": "stdout",
     "output_type": "stream",
     "text": [
      "Enter amount10000\n",
      "Enter rate5\n",
      "Enter time5\n",
      "For given amount 10000 for time 5 at rate 5 is 2500.0 \n"
     ]
    }
   ],
   "source": [
    "def si(p,r,t):\n",
    "    si=(p*r*t)/100\n",
    "    return si\n",
    "p=int(input(\"Enter amount: \"))\n",
    "r=int(input(\"Enter rate: \"))\n",
    "t=int(input(\"Enter time: \"))\n",
    "print(\"For given amount {0} for time {1} at rate {2} is {3}\" .format(p,r,t,si(p,r,t)))"
   ]
  },
  {
   "cell_type": "code",
   "execution_count": 3,
   "id": "c8b941b4",
   "metadata": {},
   "outputs": [
    {
     "name": "stdout",
     "output_type": "stream",
     "text": [
      "Enter rate5\n"
     ]
    }
   ],
   "source": []
  },
  {
   "cell_type": "code",
   "execution_count": 4,
   "id": "a1294a4c",
   "metadata": {},
   "outputs": [
    {
     "name": "stdout",
     "output_type": "stream",
     "text": [
      "Enter time5\n"
     ]
    }
   ],
   "source": []
  },
  {
   "cell_type": "code",
   "execution_count": 5,
   "id": "8c698547",
   "metadata": {},
   "outputs": [],
   "source": []
  },
  {
   "cell_type": "code",
   "execution_count": 6,
   "id": "488e92cb",
   "metadata": {},
   "outputs": [
    {
     "data": {
      "text/plain": [
       "2500.0"
      ]
     },
     "execution_count": 6,
     "metadata": {},
     "output_type": "execute_result"
    }
   ],
   "source": [
    "si"
   ]
  },
  {
   "cell_type": "code",
   "execution_count": null,
   "id": "0974532a",
   "metadata": {},
   "outputs": [],
   "source": []
  }
 ],
 "metadata": {
  "kernelspec": {
   "display_name": "Python 3 (ipykernel)",
   "language": "python",
   "name": "python3"
  },
  "language_info": {
   "codemirror_mode": {
    "name": "ipython",
    "version": 3
   },
   "file_extension": ".py",
   "mimetype": "text/x-python",
   "name": "python",
   "nbconvert_exporter": "python",
   "pygments_lexer": "ipython3",
   "version": "3.11.3"
  }
 },
 "nbformat": 4,
 "nbformat_minor": 5
}
