{
 "cells": [
  {
   "cell_type": "code",
   "execution_count": null,
   "id": "42a288a2",
   "metadata": {},
   "outputs": [],
   "source": [
    "#Python Program to Split the array and add the first part to the end\n",
    "#There is a given array and split it from a specified position, and move the first part of the array add to the end."
   ]
  },
  {
   "cell_type": "code",
   "execution_count": 2,
   "id": "0620ec94",
   "metadata": {},
   "outputs": [],
   "source": [
    "arr=[1,2,3,4,5]\n",
    "d=3"
   ]
  },
  {
   "cell_type": "code",
   "execution_count": 3,
   "id": "d5d1a60f",
   "metadata": {},
   "outputs": [],
   "source": [
    "c=(arr[d:]+arr[:d])"
   ]
  },
  {
   "cell_type": "code",
   "execution_count": 4,
   "id": "b532b0e7",
   "metadata": {},
   "outputs": [
    {
     "data": {
      "text/plain": [
       "[4, 5, 1, 2, 3]"
      ]
     },
     "execution_count": 4,
     "metadata": {},
     "output_type": "execute_result"
    }
   ],
   "source": [
    "c"
   ]
  },
  {
   "cell_type": "code",
   "execution_count": null,
   "id": "e1b91eb8",
   "metadata": {},
   "outputs": [],
   "source": [
    "# Python program to split array and move first\n",
    "# part to end.\n",
    "\n",
    "\n",
    "def splitArr(arr, n, k):\n",
    "\tfor i in range(0, k):\n",
    "\t\tx = arr[0]\n",
    "\t\tfor j in range(0, n-1):\n",
    "\t\t\tarr[j] = arr[j + 1]\n",
    "\n",
    "\t\tarr[n-1] = x\n",
    "\n",
    "\n"
   ]
  },
  {
   "cell_type": "code",
   "execution_count": null,
   "id": "9343ef33",
   "metadata": {},
   "outputs": [],
   "source": [
    "# main\n",
    "arr = [12, 10, 5, 6, 52, 36]\n",
    "n = len(arr)\n",
    "position = 2\n",
    "\n",
    "splitArr(arr, n, position)\n",
    "\n",
    "for i in range(0, n):\n",
    "\tprint(arr[i], end=' ')\n",
    "\n",
    "# Code Contributed by Mohit Gupta_OMG <(0_o)>\n"
   ]
  },
  {
   "cell_type": "code",
   "execution_count": null,
   "id": "a25968fc",
   "metadata": {},
   "outputs": [],
   "source": [
    "# Python program to split array and move first\n",
    "# part to end.\n",
    "\n",
    "\n",
    "def splitArr(a, n, k):\n",
    "\tb = a[:k]\n",
    "\treturn (a[k::]+b[::])\n",
    "\n",
    "\n",
    "# main\n",
    "arr = [12, 10, 5, 6, 52, 36]\n",
    "n = len(arr)\n",
    "position = 2\n",
    "arr = splitArr(arr, n, position)\n",
    "for i in range(0, n):\n",
    "\tprint(arr[i], end=' ')\n"
   ]
  },
  {
   "cell_type": "code",
   "execution_count": 7,
   "id": "cf6fc4e0",
   "metadata": {},
   "outputs": [],
   "source": [
    "from collections import deque\n",
    "\n",
    "def splitArr(a, n, k):\n",
    "    q = deque(a)\n",
    "    q.rotate(-k)\n",
    "    return list(q)\n",
    "\n"
   ]
  },
  {
   "cell_type": "code",
   "execution_count": 9,
   "id": "d82c0ea5",
   "metadata": {},
   "outputs": [
    {
     "name": "stdout",
     "output_type": "stream",
     "text": [
      "5 6 52 36 12 10 "
     ]
    }
   ],
   "source": [
    "\n",
    "# main\n",
    "arr = [12, 10, 5, 6, 52, 36]\n",
    "n = len(arr)\n",
    "position = 2\n",
    "arr = splitArr(arr, n, position)\n",
    "for i in range(0, n):\n",
    "    print(arr[i], end=' ')\n",
    "#This code is contributed by Jyothi pinjala."
   ]
  },
  {
   "cell_type": "code",
   "execution_count": null,
   "id": "41f50029",
   "metadata": {},
   "outputs": [],
   "source": []
  }
 ],
 "metadata": {
  "kernelspec": {
   "display_name": "Python 3 (ipykernel)",
   "language": "python",
   "name": "python3"
  },
  "language_info": {
   "codemirror_mode": {
    "name": "ipython",
    "version": 3
   },
   "file_extension": ".py",
   "mimetype": "text/x-python",
   "name": "python",
   "nbconvert_exporter": "python",
   "pygments_lexer": "ipython3",
   "version": "3.11.3"
  }
 },
 "nbformat": 4,
 "nbformat_minor": 5
}
