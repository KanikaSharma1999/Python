{
 "cells": [
  {
   "cell_type": "code",
   "execution_count": null,
   "id": "8f6fcc00",
   "metadata": {},
   "outputs": [],
   "source": [
    "#Python Program for Find remainder of array multiplication divided by n"
   ]
  },
  {
   "cell_type": "code",
   "execution_count": null,
   "id": "0fa67e1b",
   "metadata": {},
   "outputs": [],
   "source": [
    "Given multiple numbers and a number n, the task is to print the remainder after multiplying all the numbers divided by n.\n",
    "Examples: \n",
    "\n",
    "Input : arr[] = {100, 10, 5, 25, 35, 14}, n = 11\n",
    "Output : 9\n",
    "Explanation: 100 x 10 x 5 x 25 x 35 x 14 = 61250000 % 11 = 9"
   ]
  }
 ],
 "metadata": {
  "kernelspec": {
   "display_name": "Python 3 (ipykernel)",
   "language": "python",
   "name": "python3"
  },
  "language_info": {
   "codemirror_mode": {
    "name": "ipython",
    "version": 3
   },
   "file_extension": ".py",
   "mimetype": "text/x-python",
   "name": "python",
   "nbconvert_exporter": "python",
   "pygments_lexer": "ipython3",
   "version": "3.11.3"
  }
 },
 "nbformat": 4,
 "nbformat_minor": 5
}
