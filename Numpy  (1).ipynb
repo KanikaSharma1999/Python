{
 "cells": [
  {
   "cell_type": "code",
   "execution_count": 23,
   "id": "a788dc23",
   "metadata": {},
   "outputs": [],
   "source": [
    "import numpy as np"
   ]
  },
  {
   "cell_type": "code",
   "execution_count": 30,
   "id": "09b4cd57",
   "metadata": {},
   "outputs": [],
   "source": [
    "#creating an numpy array\n",
    "arr=np.array([1,2,3,4])"
   ]
  },
  {
   "cell_type": "code",
   "execution_count": 25,
   "id": "0ad574a5",
   "metadata": {},
   "outputs": [
    {
     "data": {
      "text/plain": [
       "array([1, 2, 3, 4])"
      ]
     },
     "execution_count": 25,
     "metadata": {},
     "output_type": "execute_result"
    }
   ],
   "source": [
    "arr"
   ]
  },
  {
   "cell_type": "code",
   "execution_count": 26,
   "id": "87083a05",
   "metadata": {},
   "outputs": [
    {
     "data": {
      "text/plain": [
       "numpy.ndarray"
      ]
     },
     "execution_count": 26,
     "metadata": {},
     "output_type": "execute_result"
    }
   ],
   "source": [
    "type(arr)"
   ]
  },
  {
   "cell_type": "code",
   "execution_count": 27,
   "id": "35ec9cbc",
   "metadata": {},
   "outputs": [],
   "source": [
    "#array is faster than list \"locality of referece\""
   ]
  },
  {
   "cell_type": "code",
   "execution_count": 28,
   "id": "6dbb60db",
   "metadata": {},
   "outputs": [
    {
     "name": "stdout",
     "output_type": "stream",
     "text": [
      "[1 2 3 4]\n"
     ]
    }
   ],
   "source": [
    "print(arr)"
   ]
  },
  {
   "cell_type": "code",
   "execution_count": 29,
   "id": "15fcc340",
   "metadata": {},
   "outputs": [
    {
     "name": "stdout",
     "output_type": "stream",
     "text": [
      "1.24.3\n"
     ]
    }
   ],
   "source": [
    "print(np.__version__)"
   ]
  },
  {
   "cell_type": "code",
   "execution_count": 31,
   "id": "8f07e2cf",
   "metadata": {},
   "outputs": [],
   "source": [
    "#Dimension in Array"
   ]
  },
  {
   "cell_type": "code",
   "execution_count": 32,
   "id": "698b30f6",
   "metadata": {},
   "outputs": [],
   "source": [
    "#0-D Array or scalars"
   ]
  },
  {
   "cell_type": "code",
   "execution_count": 33,
   "id": "f17a783d",
   "metadata": {},
   "outputs": [],
   "source": [
    "ad=np.array(34)"
   ]
  },
  {
   "cell_type": "code",
   "execution_count": 36,
   "id": "fef084ac",
   "metadata": {},
   "outputs": [
    {
     "name": "stdout",
     "output_type": "stream",
     "text": [
      "34\n"
     ]
    }
   ],
   "source": [
    "print(ad)\n"
   ]
  },
  {
   "cell_type": "code",
   "execution_count": 37,
   "id": "2ec3fdca",
   "metadata": {},
   "outputs": [],
   "source": [
    "#1 D array or uni dimensional"
   ]
  },
  {
   "cell_type": "code",
   "execution_count": 38,
   "id": "47006f98",
   "metadata": {},
   "outputs": [],
   "source": [
    "arr=np.array([1,2,3,4])"
   ]
  },
  {
   "cell_type": "code",
   "execution_count": 39,
   "id": "10c6eb3e",
   "metadata": {},
   "outputs": [
    {
     "name": "stdout",
     "output_type": "stream",
     "text": [
      "[1 2 3 4]\n"
     ]
    }
   ],
   "source": [
    "print(arr)"
   ]
  },
  {
   "cell_type": "code",
   "execution_count": 57,
   "id": "4cc28fd4",
   "metadata": {},
   "outputs": [
    {
     "name": "stdout",
     "output_type": "stream",
     "text": [
      "1\n"
     ]
    }
   ],
   "source": [
    "print(arr.ndim)"
   ]
  },
  {
   "cell_type": "code",
   "execution_count": 40,
   "id": "6e312dcf",
   "metadata": {},
   "outputs": [],
   "source": [
    "#2D array"
   ]
  },
  {
   "cell_type": "code",
   "execution_count": 47,
   "id": "2a222372",
   "metadata": {},
   "outputs": [],
   "source": [
    "a=np.array([[1,2,3],[5,6,7]])"
   ]
  },
  {
   "cell_type": "code",
   "execution_count": 58,
   "id": "89df0c21",
   "metadata": {},
   "outputs": [
    {
     "name": "stdout",
     "output_type": "stream",
     "text": [
      "2\n"
     ]
    }
   ],
   "source": [
    "print(a.ndim)"
   ]
  },
  {
   "cell_type": "code",
   "execution_count": 48,
   "id": "344e3b58",
   "metadata": {},
   "outputs": [
    {
     "name": "stdout",
     "output_type": "stream",
     "text": [
      "[[1 2 3]\n",
      " [5 6 7]]\n"
     ]
    }
   ],
   "source": [
    "print(a)"
   ]
  },
  {
   "cell_type": "code",
   "execution_count": 49,
   "id": "ec5be0ff",
   "metadata": {},
   "outputs": [],
   "source": [
    "#3D array"
   ]
  },
  {
   "cell_type": "code",
   "execution_count": 55,
   "id": "30e84612",
   "metadata": {},
   "outputs": [],
   "source": [
    "arr1=np.array([[[1,2,3],[4,5,6]],[[7,8,9],[10,11,12]]])"
   ]
  },
  {
   "cell_type": "code",
   "execution_count": 56,
   "id": "182f3e25",
   "metadata": {},
   "outputs": [
    {
     "name": "stdout",
     "output_type": "stream",
     "text": [
      "[[[ 1  2  3]\n",
      "  [ 4  5  6]]\n",
      "\n",
      " [[ 7  8  9]\n",
      "  [10 11 12]]]\n"
     ]
    }
   ],
   "source": [
    "print(arr1)"
   ]
  },
  {
   "cell_type": "code",
   "execution_count": 59,
   "id": "98f11545",
   "metadata": {},
   "outputs": [
    {
     "name": "stdout",
     "output_type": "stream",
     "text": [
      "3\n"
     ]
    }
   ],
   "source": [
    "print(arr1.ndim)"
   ]
  },
  {
   "cell_type": "code",
   "execution_count": 112,
   "id": "515ceebe",
   "metadata": {},
   "outputs": [],
   "source": [
    "a1=np.array([10,20,30],ndmin=3)"
   ]
  },
  {
   "cell_type": "code",
   "execution_count": 113,
   "id": "079f4020",
   "metadata": {},
   "outputs": [
    {
     "name": "stdout",
     "output_type": "stream",
     "text": [
      "(1, 1, 3)\n"
     ]
    }
   ],
   "source": [
    "print(a1.shape)"
   ]
  },
  {
   "cell_type": "code",
   "execution_count": 114,
   "id": "f1110373",
   "metadata": {},
   "outputs": [
    {
     "name": "stdout",
     "output_type": "stream",
     "text": [
      "number of dimensions : 3\n"
     ]
    }
   ],
   "source": [
    "print('number of dimensions :',a1.ndim)"
   ]
  },
  {
   "cell_type": "code",
   "execution_count": 68,
   "id": "7fadfc80",
   "metadata": {},
   "outputs": [],
   "source": [
    "#Numpy Array Elements"
   ]
  },
  {
   "cell_type": "code",
   "execution_count": 69,
   "id": "b87acc21",
   "metadata": {},
   "outputs": [],
   "source": [
    "a2=np.array([1,2,3,4])"
   ]
  },
  {
   "cell_type": "code",
   "execution_count": 72,
   "id": "1e7f8146",
   "metadata": {},
   "outputs": [
    {
     "name": "stdout",
     "output_type": "stream",
     "text": [
      "4\n"
     ]
    }
   ],
   "source": [
    "print(a2[3])"
   ]
  },
  {
   "cell_type": "code",
   "execution_count": 73,
   "id": "6ec347d8",
   "metadata": {},
   "outputs": [
    {
     "name": "stdout",
     "output_type": "stream",
     "text": [
      "7\n"
     ]
    }
   ],
   "source": [
    "print(a2[2] + a2[3])"
   ]
  },
  {
   "cell_type": "code",
   "execution_count": 81,
   "id": "353038af",
   "metadata": {},
   "outputs": [],
   "source": [
    "a=np.array([[1,2,3],[5,6,7]])"
   ]
  },
  {
   "cell_type": "code",
   "execution_count": 82,
   "id": "5cd63c4c",
   "metadata": {},
   "outputs": [
    {
     "name": "stdout",
     "output_type": "stream",
     "text": [
      "[[1 2 3]\n",
      " [5 6 7]]\n"
     ]
    }
   ],
   "source": [
    "print(a)"
   ]
  },
  {
   "cell_type": "code",
   "execution_count": 115,
   "id": "ab8663d4",
   "metadata": {},
   "outputs": [
    {
     "name": "stdout",
     "output_type": "stream",
     "text": [
      "(2, 3)\n"
     ]
    }
   ],
   "source": [
    "print(a.shape)"
   ]
  },
  {
   "cell_type": "code",
   "execution_count": 78,
   "id": "5a24d817",
   "metadata": {},
   "outputs": [
    {
     "name": "stdout",
     "output_type": "stream",
     "text": [
      "2nd element on 1st row:  2\n"
     ]
    }
   ],
   "source": [
    "print('2nd element on 1st row: ' ,a[0,1])"
   ]
  },
  {
   "cell_type": "code",
   "execution_count": 84,
   "id": "530df085",
   "metadata": {},
   "outputs": [
    {
     "name": "stdout",
     "output_type": "stream",
     "text": [
      "3nd element on 2nd row:  7\n"
     ]
    }
   ],
   "source": [
    "print('3nd element on 2nd row: ' ,a[1,2])"
   ]
  },
  {
   "cell_type": "code",
   "execution_count": 85,
   "id": "43dd4998",
   "metadata": {},
   "outputs": [],
   "source": [
    "arr1=np.array([[[1,2,3],[4,5,6]],[[7,8,9],[10,11,12]]])"
   ]
  },
  {
   "cell_type": "code",
   "execution_count": 86,
   "id": "e0edc321",
   "metadata": {},
   "outputs": [
    {
     "name": "stdout",
     "output_type": "stream",
     "text": [
      "[[[ 1  2  3]\n",
      "  [ 4  5  6]]\n",
      "\n",
      " [[ 7  8  9]\n",
      "  [10 11 12]]]\n"
     ]
    }
   ],
   "source": [
    "print(arr1)"
   ]
  },
  {
   "cell_type": "code",
   "execution_count": 91,
   "id": "a7bace26",
   "metadata": {},
   "outputs": [
    {
     "name": "stdout",
     "output_type": "stream",
     "text": [
      "5\n"
     ]
    }
   ],
   "source": [
    "print(arr1[0,1,1])"
   ]
  },
  {
   "cell_type": "code",
   "execution_count": 93,
   "id": "499deb55",
   "metadata": {},
   "outputs": [],
   "source": [
    "#negative indexing: access an array from the end"
   ]
  },
  {
   "cell_type": "code",
   "execution_count": 94,
   "id": "0f773e6f",
   "metadata": {},
   "outputs": [],
   "source": [
    "a=np.array([[1,2,3],[5,6,7]])"
   ]
  },
  {
   "cell_type": "code",
   "execution_count": 98,
   "id": "ae094a97",
   "metadata": {},
   "outputs": [
    {
     "name": "stdout",
     "output_type": "stream",
     "text": [
      "last element from 2nd dim:  7\n"
     ]
    }
   ],
   "source": [
    "print('last element from 2nd dim: ',a[1,-1])"
   ]
  },
  {
   "cell_type": "code",
   "execution_count": 100,
   "id": "04d39f0d",
   "metadata": {},
   "outputs": [
    {
     "data": {
      "text/plain": [
       "2"
      ]
     },
     "execution_count": 100,
     "metadata": {},
     "output_type": "execute_result"
    }
   ],
   "source": [
    "a.ndim"
   ]
  },
  {
   "cell_type": "code",
   "execution_count": 103,
   "id": "ee672475",
   "metadata": {},
   "outputs": [
    {
     "data": {
      "text/plain": [
       "(2, 3)"
      ]
     },
     "execution_count": 103,
     "metadata": {},
     "output_type": "execute_result"
    }
   ],
   "source": [
    "np.shape(a)"
   ]
  },
  {
   "cell_type": "code",
   "execution_count": 104,
   "id": "7b18866e",
   "metadata": {},
   "outputs": [
    {
     "name": "stdout",
     "output_type": "stream",
     "text": [
      "last element from 2nd dim:  7\n"
     ]
    }
   ],
   "source": [
    "print('last element from 2nd dim: ',a[-1,-1])"
   ]
  },
  {
   "cell_type": "code",
   "execution_count": 105,
   "id": "15387ca9",
   "metadata": {},
   "outputs": [
    {
     "name": "stdout",
     "output_type": "stream",
     "text": [
      "2\n"
     ]
    }
   ],
   "source": [
    "print(a[0,1])"
   ]
  },
  {
   "cell_type": "code",
   "execution_count": 106,
   "id": "71ab0962",
   "metadata": {},
   "outputs": [
    {
     "name": "stdout",
     "output_type": "stream",
     "text": [
      "2\n"
     ]
    }
   ],
   "source": [
    "print(a[0][1])"
   ]
  },
  {
   "cell_type": "code",
   "execution_count": 107,
   "id": "eaacb666",
   "metadata": {},
   "outputs": [],
   "source": [
    "#slicing arrays[start:end:step]"
   ]
  },
  {
   "cell_type": "code",
   "execution_count": 116,
   "id": "7fb901e3",
   "metadata": {},
   "outputs": [],
   "source": [
    "arr=np.array([1,2,3,4])"
   ]
  },
  {
   "cell_type": "code",
   "execution_count": 120,
   "id": "3af6808a",
   "metadata": {},
   "outputs": [
    {
     "name": "stdout",
     "output_type": "stream",
     "text": [
      "[1 2 3 4]\n"
     ]
    }
   ],
   "source": [
    "print(arr[0:])"
   ]
  },
  {
   "cell_type": "code",
   "execution_count": 121,
   "id": "66b22abd",
   "metadata": {},
   "outputs": [
    {
     "name": "stdout",
     "output_type": "stream",
     "text": [
      "[1 2 3 4]\n"
     ]
    }
   ],
   "source": [
    "print(arr[:])"
   ]
  },
  {
   "cell_type": "code",
   "execution_count": 122,
   "id": "3c245037",
   "metadata": {},
   "outputs": [
    {
     "name": "stdout",
     "output_type": "stream",
     "text": [
      "[1 2]\n"
     ]
    }
   ],
   "source": [
    "print(arr[:2])"
   ]
  },
  {
   "cell_type": "code",
   "execution_count": 123,
   "id": "839e7af4",
   "metadata": {},
   "outputs": [],
   "source": [
    "#Negative slicing"
   ]
  },
  {
   "cell_type": "code",
   "execution_count": null,
   "id": "5ea0a082",
   "metadata": {},
   "outputs": [],
   "source": [
    "arr=np.array([1,2,3,4])"
   ]
  },
  {
   "cell_type": "code",
   "execution_count": 124,
   "id": "363bd9e0",
   "metadata": {},
   "outputs": [
    {
     "name": "stdout",
     "output_type": "stream",
     "text": [
      "[2 3]\n"
     ]
    }
   ],
   "source": [
    "print(arr[-3:-1])"
   ]
  },
  {
   "cell_type": "code",
   "execution_count": 125,
   "id": "a71ab9be",
   "metadata": {},
   "outputs": [],
   "source": [
    "arr=np.array([1,2,3,4,5,6,7,8,9])"
   ]
  },
  {
   "cell_type": "code",
   "execution_count": 126,
   "id": "96837c30",
   "metadata": {},
   "outputs": [
    {
     "name": "stdout",
     "output_type": "stream",
     "text": [
      "(9,)\n"
     ]
    }
   ],
   "source": [
    "print(arr.shape)"
   ]
  },
  {
   "cell_type": "code",
   "execution_count": 129,
   "id": "977216a3",
   "metadata": {},
   "outputs": [
    {
     "data": {
      "text/plain": [
       "array([3, 4, 5, 6, 7, 8])"
      ]
     },
     "execution_count": 129,
     "metadata": {},
     "output_type": "execute_result"
    }
   ],
   "source": [
    "arr[2:-1]"
   ]
  },
  {
   "cell_type": "code",
   "execution_count": 131,
   "id": "e5f0c5d3",
   "metadata": {},
   "outputs": [
    {
     "data": {
      "text/plain": [
       "array([3, 5, 7])"
      ]
     },
     "execution_count": 131,
     "metadata": {},
     "output_type": "execute_result"
    }
   ],
   "source": [
    "arr[2:-1:2]"
   ]
  },
  {
   "cell_type": "code",
   "execution_count": 133,
   "id": "35c6b763",
   "metadata": {},
   "outputs": [
    {
     "data": {
      "text/plain": [
       "array([1, 4, 7])"
      ]
     },
     "execution_count": 133,
     "metadata": {},
     "output_type": "execute_result"
    }
   ],
   "source": [
    "arr[::3]"
   ]
  },
  {
   "cell_type": "code",
   "execution_count": 134,
   "id": "70ee26b7",
   "metadata": {},
   "outputs": [],
   "source": [
    "#slicing 2-D Arrays"
   ]
  },
  {
   "cell_type": "code",
   "execution_count": 141,
   "id": "334f0316",
   "metadata": {},
   "outputs": [],
   "source": [
    "a=np.array([[1,2,3,4,8],[5,6,7,45,67]])"
   ]
  },
  {
   "cell_type": "code",
   "execution_count": 142,
   "id": "bd45d210",
   "metadata": {},
   "outputs": [
    {
     "name": "stdout",
     "output_type": "stream",
     "text": [
      "[[ 1  2  3  4  8]\n",
      " [ 5  6  7 45 67]]\n"
     ]
    }
   ],
   "source": [
    "print(a)"
   ]
  },
  {
   "cell_type": "code",
   "execution_count": 148,
   "id": "abcd042b",
   "metadata": {},
   "outputs": [
    {
     "name": "stdout",
     "output_type": "stream",
     "text": [
      "[3 7]\n"
     ]
    }
   ],
   "source": [
    "#columns\n",
    "print(a[0:2,2])"
   ]
  },
  {
   "cell_type": "code",
   "execution_count": 151,
   "id": "2c22cb4c",
   "metadata": {},
   "outputs": [
    {
     "name": "stdout",
     "output_type": "stream",
     "text": [
      "[ 6  7 45]\n"
     ]
    }
   ],
   "source": [
    "#row\n",
    "print(a[1, 1:4])"
   ]
  },
  {
   "cell_type": "code",
   "execution_count": 152,
   "id": "6c74f52e",
   "metadata": {},
   "outputs": [
    {
     "name": "stdout",
     "output_type": "stream",
     "text": [
      "[[ 2  3  4]\n",
      " [ 6  7 45]]\n"
     ]
    }
   ],
   "source": [
    "print(a[0:2,1:4])"
   ]
  },
  {
   "cell_type": "code",
   "execution_count": 154,
   "id": "f1cfd5ca",
   "metadata": {},
   "outputs": [
    {
     "name": "stdout",
     "output_type": "stream",
     "text": [
      "[[ 4  8]\n",
      " [45 67]]\n"
     ]
    }
   ],
   "source": [
    "print(a[0:2,-2:])"
   ]
  },
  {
   "cell_type": "code",
   "execution_count": 155,
   "id": "7645b73f",
   "metadata": {},
   "outputs": [
    {
     "name": "stdout",
     "output_type": "stream",
     "text": [
      "[[ 4  8]\n",
      " [45 67]]\n"
     ]
    }
   ],
   "source": [
    "print(a[0:2,3:])"
   ]
  },
  {
   "cell_type": "code",
   "execution_count": 157,
   "id": "5b3770b5",
   "metadata": {},
   "outputs": [
    {
     "ename": "NameError",
     "evalue": "name 'strings' is not defined",
     "output_type": "error",
     "traceback": [
      "\u001b[1;31m---------------------------------------------------------------------------\u001b[0m",
      "\u001b[1;31mNameError\u001b[0m                                 Traceback (most recent call last)",
      "Cell \u001b[1;32mIn[157], line 2\u001b[0m\n\u001b[0;32m      1\u001b[0m \u001b[38;5;66;03m# datatypes in numpy\u001b[39;00m\n\u001b[1;32m----> 2\u001b[0m strings\n",
      "\u001b[1;31mNameError\u001b[0m: name 'strings' is not defined"
     ]
    }
   ],
   "source": [
    "# datatypes in numpy\n",
    "strings -S\n",
    "integers -i\n",
    "float -f\n",
    "boolean -b\n",
    "complex - c"
   ]
  },
  {
   "cell_type": "code",
   "execution_count": 158,
   "id": "efd698e7",
   "metadata": {},
   "outputs": [],
   "source": [
    "arr=np.array([1,2,3,4])"
   ]
  },
  {
   "cell_type": "code",
   "execution_count": 159,
   "id": "6218bcd4",
   "metadata": {},
   "outputs": [
    {
     "name": "stdout",
     "output_type": "stream",
     "text": [
      "int32\n"
     ]
    }
   ],
   "source": [
    "print(arr.dtype)"
   ]
  },
  {
   "cell_type": "code",
   "execution_count": 162,
   "id": "36977cef",
   "metadata": {},
   "outputs": [],
   "source": [
    "ars=np.array(['a', 'b','c'])"
   ]
  },
  {
   "cell_type": "code",
   "execution_count": 163,
   "id": "780f4e4b",
   "metadata": {},
   "outputs": [
    {
     "name": "stdout",
     "output_type": "stream",
     "text": [
      "<U1\n"
     ]
    }
   ],
   "source": [
    "print(ars.dtype)"
   ]
  },
  {
   "cell_type": "code",
   "execution_count": 164,
   "id": "4a287e37",
   "metadata": {},
   "outputs": [],
   "source": [
    "arr=np.array([1,2,3,4], dtype='S')"
   ]
  },
  {
   "cell_type": "code",
   "execution_count": 165,
   "id": "a00c40ed",
   "metadata": {},
   "outputs": [
    {
     "name": "stdout",
     "output_type": "stream",
     "text": [
      "|S1\n"
     ]
    }
   ],
   "source": [
    "print(arr.dtype)"
   ]
  },
  {
   "cell_type": "code",
   "execution_count": 166,
   "id": "bba9083b",
   "metadata": {},
   "outputs": [],
   "source": [
    "arr=np.array([1,2,3,4], dtype='i4')"
   ]
  },
  {
   "cell_type": "code",
   "execution_count": 167,
   "id": "5c35271b",
   "metadata": {},
   "outputs": [
    {
     "name": "stdout",
     "output_type": "stream",
     "text": [
      "int32\n"
     ]
    }
   ],
   "source": [
    "print(arr.dtype)"
   ]
  },
  {
   "cell_type": "code",
   "execution_count": 169,
   "id": "23b76ee1",
   "metadata": {},
   "outputs": [],
   "source": [
    "arr=np.array(['1','2','3','4'], dtype='i')"
   ]
  },
  {
   "cell_type": "code",
   "execution_count": 170,
   "id": "7c606988",
   "metadata": {},
   "outputs": [],
   "source": [
    "af=np.array([1.1,2.1,3.1])"
   ]
  },
  {
   "cell_type": "code",
   "execution_count": 171,
   "id": "6c8e0e38",
   "metadata": {},
   "outputs": [
    {
     "data": {
      "text/plain": [
       "dtype('float64')"
      ]
     },
     "execution_count": 171,
     "metadata": {},
     "output_type": "execute_result"
    }
   ],
   "source": [
    "af.dtype"
   ]
  },
  {
   "cell_type": "code",
   "execution_count": 172,
   "id": "06cdf029",
   "metadata": {},
   "outputs": [],
   "source": [
    "newaf=af.astype('i')"
   ]
  },
  {
   "cell_type": "code",
   "execution_count": 173,
   "id": "90173130",
   "metadata": {},
   "outputs": [
    {
     "data": {
      "text/plain": [
       "dtype('int32')"
      ]
     },
     "execution_count": 173,
     "metadata": {},
     "output_type": "execute_result"
    }
   ],
   "source": [
    "newaf.dtype"
   ]
  },
  {
   "cell_type": "code",
   "execution_count": 174,
   "id": "2ee6b43a",
   "metadata": {},
   "outputs": [],
   "source": [
    "#numpy array reshapping"
   ]
  },
  {
   "cell_type": "code",
   "execution_count": 176,
   "id": "4beae7aa",
   "metadata": {},
   "outputs": [],
   "source": [
    "#Reshape from 1D to 2D"
   ]
  },
  {
   "cell_type": "code",
   "execution_count": 179,
   "id": "36f94ca6",
   "metadata": {},
   "outputs": [],
   "source": [
    "arr=np.array([1,2,3,4,5,6,7,8,9,10,11,12])"
   ]
  },
  {
   "cell_type": "code",
   "execution_count": 180,
   "id": "58898966",
   "metadata": {},
   "outputs": [
    {
     "name": "stdout",
     "output_type": "stream",
     "text": [
      "(12,)\n"
     ]
    }
   ],
   "source": [
    "print(arr.shape)"
   ]
  },
  {
   "cell_type": "code",
   "execution_count": 181,
   "id": "0ae6752a",
   "metadata": {},
   "outputs": [],
   "source": [
    "newarr=arr.reshape(4,3)"
   ]
  },
  {
   "cell_type": "code",
   "execution_count": 182,
   "id": "48d56476",
   "metadata": {},
   "outputs": [
    {
     "name": "stdout",
     "output_type": "stream",
     "text": [
      "[[ 1  2  3]\n",
      " [ 4  5  6]\n",
      " [ 7  8  9]\n",
      " [10 11 12]]\n"
     ]
    }
   ],
   "source": [
    "print(newarr)"
   ]
  },
  {
   "cell_type": "code",
   "execution_count": 183,
   "id": "f65b9587",
   "metadata": {},
   "outputs": [
    {
     "data": {
      "text/plain": [
       "(4, 3)"
      ]
     },
     "execution_count": 183,
     "metadata": {},
     "output_type": "execute_result"
    }
   ],
   "source": [
    "newarr.shape"
   ]
  },
  {
   "cell_type": "code",
   "execution_count": 184,
   "id": "6dcbf922",
   "metadata": {},
   "outputs": [],
   "source": [
    "arr=np.array([1,2,3,4,5,6,7,8])"
   ]
  },
  {
   "cell_type": "code",
   "execution_count": 185,
   "id": "33e023c1",
   "metadata": {},
   "outputs": [
    {
     "data": {
      "text/plain": [
       "(8,)"
      ]
     },
     "execution_count": 185,
     "metadata": {},
     "output_type": "execute_result"
    }
   ],
   "source": [
    "arr.shape"
   ]
  },
  {
   "cell_type": "code",
   "execution_count": 196,
   "id": "cf526fcd",
   "metadata": {},
   "outputs": [
    {
     "name": "stdout",
     "output_type": "stream",
     "text": [
      "[1 2 3 4 5 6 7 8]\n"
     ]
    }
   ],
   "source": [
    "print(arr.reshape(-1))"
   ]
  },
  {
   "cell_type": "code",
   "execution_count": 191,
   "id": "79c3a99f",
   "metadata": {},
   "outputs": [
    {
     "data": {
      "text/plain": [
       "array([[1, 2],\n",
       "       [3, 4],\n",
       "       [5, 6],\n",
       "       [7, 8]])"
      ]
     },
     "execution_count": 191,
     "metadata": {},
     "output_type": "execute_result"
    }
   ],
   "source": [
    "newarr"
   ]
  },
  {
   "cell_type": "code",
   "execution_count": 199,
   "id": "fc435c7a",
   "metadata": {},
   "outputs": [
    {
     "name": "stdout",
     "output_type": "stream",
     "text": [
      "a\n",
      "97\n"
     ]
    }
   ],
   "source": [
    "a= input()\n",
    "print(ord(a))"
   ]
  },
  {
   "cell_type": "code",
   "execution_count": null,
   "id": "887ab632",
   "metadata": {},
   "outputs": [],
   "source": []
  }
 ],
 "metadata": {
  "kernelspec": {
   "display_name": "Python 3 (ipykernel)",
   "language": "python",
   "name": "python3"
  },
  "language_info": {
   "codemirror_mode": {
    "name": "ipython",
    "version": 3
   },
   "file_extension": ".py",
   "mimetype": "text/x-python",
   "name": "python",
   "nbconvert_exporter": "python",
   "pygments_lexer": "ipython3",
   "version": "3.11.3"
  }
 },
 "nbformat": 4,
 "nbformat_minor": 5
}
